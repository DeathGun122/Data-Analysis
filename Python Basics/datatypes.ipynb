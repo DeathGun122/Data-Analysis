{
 "cells": [
  {
   "cell_type": "code",
   "execution_count": 1,
   "id": "ad2a6d3d-d781-4291-b5bc-ad7292bedc12",
   "metadata": {},
   "outputs": [],
   "source": [
    "total_salary = 110000\n",
    "bonus_salary = 10000"
   ]
  },
  {
   "cell_type": "code",
   "execution_count": 3,
   "id": "cd7c1f2a-b90b-42bc-ade8-8d756697632b",
   "metadata": {},
   "outputs": [
    {
     "data": {
      "text/plain": [
       "int"
      ]
     },
     "execution_count": 3,
     "metadata": {},
     "output_type": "execute_result"
    }
   ],
   "source": [
    "type(total_salary)"
   ]
  },
  {
   "cell_type": "code",
   "execution_count": 4,
   "id": "16c4e7d1-c04d-49cd-b3de-f25bda4c4c31",
   "metadata": {},
   "outputs": [],
   "source": [
    "job_title = 'Data Analyst'\n",
    "remove_word = 'Data'"
   ]
  },
  {
   "cell_type": "code",
   "execution_count": 5,
   "id": "34afd4c2-d1bd-4e6f-aa81-e6cebd6b9860",
   "metadata": {},
   "outputs": [
    {
     "data": {
      "text/plain": [
       "str"
      ]
     },
     "execution_count": 5,
     "metadata": {},
     "output_type": "execute_result"
    }
   ],
   "source": [
    "type(job_title)"
   ]
  },
  {
   "cell_type": "code",
   "execution_count": 6,
   "id": "8e7fb4e2-b9d3-462e-b54a-469cb0723366",
   "metadata": {},
   "outputs": [
    {
     "data": {
      "text/plain": [
       "'DataScience'"
      ]
     },
     "execution_count": 6,
     "metadata": {},
     "output_type": "execute_result"
    }
   ],
   "source": [
    "'Data' + 'Science'"
   ]
  },
  {
   "cell_type": "code",
   "execution_count": 7,
   "id": "a9d8fe8f-13a3-4f95-a0f6-86d33f96561f",
   "metadata": {},
   "outputs": [
    {
     "data": {
      "text/plain": [
       "'Data'"
      ]
     },
     "execution_count": 7,
     "metadata": {},
     "output_type": "execute_result"
    }
   ],
   "source": [
    "'data'.capitalize()"
   ]
  },
  {
   "cell_type": "code",
   "execution_count": 8,
   "id": "6896d80c-721f-4ef4-99c4-1d3f77b8f46c",
   "metadata": {},
   "outputs": [
    {
     "data": {
      "text/plain": [
       "'100000'"
      ]
     },
     "execution_count": 8,
     "metadata": {},
     "output_type": "execute_result"
    }
   ],
   "source": [
    "salary = 100000\n",
    "string_sal = str(salary)"
   ]
  },
  {
   "cell_type": "code",
   "execution_count": 9,
   "id": "27880cd0-bd77-41d3-948f-6d0455eabce2",
   "metadata": {},
   "outputs": [],
   "source": [
    "job_id = float(102)"
   ]
  },
  {
   "cell_type": "code",
   "execution_count": 10,
   "id": "27f8d336-156a-4587-bcd6-1362e370ec2d",
   "metadata": {},
   "outputs": [
    {
     "data": {
      "text/plain": [
       "102.0"
      ]
     },
     "execution_count": 10,
     "metadata": {},
     "output_type": "execute_result"
    }
   ],
   "source": [
    "job_id"
   ]
  },
  {
   "cell_type": "code",
   "execution_count": null,
   "id": "bc2b5a3c-c09a-485f-8ae5-843d0bdbf5eb",
   "metadata": {},
   "outputs": [],
   "source": []
  }
 ],
 "metadata": {
  "kernelspec": {
   "display_name": "Python 3 (ipykernel)",
   "language": "python",
   "name": "python3"
  },
  "language_info": {
   "codemirror_mode": {
    "name": "ipython",
    "version": 3
   },
   "file_extension": ".py",
   "mimetype": "text/x-python",
   "name": "python",
   "nbconvert_exporter": "python",
   "pygments_lexer": "ipython3",
   "version": "3.13.2"
  }
 },
 "nbformat": 4,
 "nbformat_minor": 5
}
