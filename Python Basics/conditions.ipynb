{
 "cells": [
  {
   "cell_type": "code",
   "execution_count": 1,
   "id": "282d5f11-8d76-40a8-8246-d2407bb7bdc8",
   "metadata": {},
   "outputs": [
    {
     "name": "stdout",
     "output_type": "stream",
     "text": [
      "Hello!\n"
     ]
    }
   ],
   "source": [
    "if True:\n",
    "    print(\"Hello!\")"
   ]
  },
  {
   "cell_type": "code",
   "execution_count": 2,
   "id": "d4fcd5b5-0f6a-4d36-b33b-7f6f37857e42",
   "metadata": {},
   "outputs": [],
   "source": [
    "job_skill = 'SQL'\n",
    "applicant_skill = 'SQL'"
   ]
  },
  {
   "cell_type": "code",
   "execution_count": 3,
   "id": "bd6416f5-573b-4def-b676-aa56b8c591d9",
   "metadata": {},
   "outputs": [
    {
     "name": "stdout",
     "output_type": "stream",
     "text": [
      "Skills Match!\n"
     ]
    }
   ],
   "source": [
    "if applicant_skill == job_skill:\n",
    "    print(\"Skills Match!\")"
   ]
  },
  {
   "cell_type": "code",
   "execution_count": 5,
   "id": "7cfbb28a-b765-4c2c-a794-229995416895",
   "metadata": {},
   "outputs": [
    {
     "name": "stdout",
     "output_type": "stream",
     "text": [
      "Enough Experience. SQL not required!\n"
     ]
    }
   ],
   "source": [
    "years = 8\n",
    "applicant_skill = 'Python'\n",
    "if applicant_skill == job_skill:\n",
    "    print(\"Skills Match!\")\n",
    "elif years >= 5:\n",
    "    print('Enough Experience. SQL not required!')"
   ]
  },
  {
   "cell_type": "code",
   "execution_count": 6,
   "id": "a54fc0ef-127e-40bd-ab35-d0c853d8ecb1",
   "metadata": {},
   "outputs": [
    {
     "name": "stdout",
     "output_type": "stream",
     "text": [
      "No skills or experience\n"
     ]
    }
   ],
   "source": [
    "years = 1\n",
    "applicant_skill = ''\n",
    "if applicant_skill == job_skill:\n",
    "    print(\"Skills Match!\")\n",
    "elif years >= 5:\n",
    "    print('Enough Experience. SQL not required!')\n",
    "else:\n",
    "    print('No skills or experience')"
   ]
  },
  {
   "cell_type": "code",
   "execution_count": 7,
   "id": "bc1b8d49-7704-49e2-a122-785f9ab6175d",
   "metadata": {},
   "outputs": [],
   "source": [
    "if job_skill == applicant_skill:\n",
    "    pass"
   ]
  },
  {
   "cell_type": "code",
   "execution_count": null,
   "id": "196fccad-dad9-451c-87fc-9366c3756708",
   "metadata": {},
   "outputs": [],
   "source": []
  }
 ],
 "metadata": {
  "kernelspec": {
   "display_name": "Python 3 (ipykernel)",
   "language": "python",
   "name": "python3"
  },
  "language_info": {
   "codemirror_mode": {
    "name": "ipython",
    "version": 3
   },
   "file_extension": ".py",
   "mimetype": "text/x-python",
   "name": "python",
   "nbconvert_exporter": "python",
   "pygments_lexer": "ipython3",
   "version": "3.13.2"
  }
 },
 "nbformat": 4,
 "nbformat_minor": 5
}
