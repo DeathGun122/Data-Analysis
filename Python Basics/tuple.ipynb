{
 "cells": [
  {
   "cell_type": "code",
   "execution_count": 1,
   "id": "01ffdf78-7ebb-4eb0-b2fa-863ae70907c4",
   "metadata": {},
   "outputs": [],
   "source": [
    "# uses (), immutable, ordered"
   ]
  },
  {
   "cell_type": "code",
   "execution_count": 2,
   "id": "93b706aa-35d7-4234-a3b8-39d059a00b1b",
   "metadata": {},
   "outputs": [],
   "source": [
    "skills = ('python', 'sql', 'excel', 'JS')"
   ]
  },
  {
   "cell_type": "code",
   "execution_count": 3,
   "id": "09cc3696-3b28-4506-b97b-cf9d0a413eb7",
   "metadata": {},
   "outputs": [
    {
     "data": {
      "text/plain": [
       "('python', 'sql', 'excel', 'JS')"
      ]
     },
     "execution_count": 3,
     "metadata": {},
     "output_type": "execute_result"
    }
   ],
   "source": [
    "skills"
   ]
  },
  {
   "cell_type": "code",
   "execution_count": 4,
   "id": "5dc996d5-5d8d-47e3-921e-1b4f280ab1c5",
   "metadata": {},
   "outputs": [
    {
     "data": {
      "text/plain": [
       "'sql'"
      ]
     },
     "execution_count": 4,
     "metadata": {},
     "output_type": "execute_result"
    }
   ],
   "source": [
    "skills[1]"
   ]
  },
  {
   "cell_type": "code",
   "execution_count": 5,
   "id": "c4b8866c-f6a5-497b-a2ed-adeb1629ddb6",
   "metadata": {},
   "outputs": [
    {
     "data": {
      "text/plain": [
       "('python', 'sql')"
      ]
     },
     "execution_count": 5,
     "metadata": {},
     "output_type": "execute_result"
    }
   ],
   "source": [
    "skills[0:2]"
   ]
  },
  {
   "cell_type": "code",
   "execution_count": 6,
   "id": "05beb98a-f5f0-448b-ab12-4264e5cae092",
   "metadata": {},
   "outputs": [
    {
     "data": {
      "text/plain": [
       "('python', 'sql', 'excel', 'JS')"
      ]
     },
     "execution_count": 6,
     "metadata": {},
     "output_type": "execute_result"
    }
   ],
   "source": [
    "skills[:]"
   ]
  },
  {
   "cell_type": "code",
   "execution_count": 11,
   "id": "0af9a5fd-5641-4825-82aa-3d8488955cff",
   "metadata": {},
   "outputs": [],
   "source": [
    "new_skills = ('pandas', 'numpy', 'scikit-learn')\n",
    "skills += new_skills         # new Object is created since tuples are immutable"
   ]
  },
  {
   "cell_type": "code",
   "execution_count": 12,
   "id": "53e8fc63-02f4-4881-ac38-e8ceaec5912f",
   "metadata": {},
   "outputs": [
    {
     "data": {
      "text/plain": [
       "('python',\n",
       " 'sql',\n",
       " 'excel',\n",
       " 'JS',\n",
       " 'pandas',\n",
       " 'numpy',\n",
       " 'scikit-learn',\n",
       " 'pandas',\n",
       " 'numpy',\n",
       " 'scikit-learn')"
      ]
     },
     "execution_count": 12,
     "metadata": {},
     "output_type": "execute_result"
    }
   ],
   "source": [
    "skills"
   ]
  },
  {
   "cell_type": "code",
   "execution_count": 13,
   "id": "af912ffe-a9cd-41ea-93fd-de7b9b7b95f3",
   "metadata": {},
   "outputs": [],
   "source": [
    "# range"
   ]
  },
  {
   "cell_type": "code",
   "execution_count": 14,
   "id": "c194a7e8-e0c7-4e8d-b8f4-1db3f6485dff",
   "metadata": {},
   "outputs": [
    {
     "data": {
      "text/plain": [
       "range(0, 5)"
      ]
     },
     "execution_count": 14,
     "metadata": {},
     "output_type": "execute_result"
    }
   ],
   "source": [
    "range(5)"
   ]
  },
  {
   "cell_type": "code",
   "execution_count": 15,
   "id": "503ea64c-433e-4b04-8510-a686453e7874",
   "metadata": {},
   "outputs": [
    {
     "data": {
      "text/plain": [
       "(0, 1, 2, 3, 4)"
      ]
     },
     "execution_count": 15,
     "metadata": {},
     "output_type": "execute_result"
    }
   ],
   "source": [
    "tuple(range(5))"
   ]
  },
  {
   "cell_type": "code",
   "execution_count": 16,
   "id": "bb45c9d7-38a9-4c90-ae73-256520db99b5",
   "metadata": {},
   "outputs": [
    {
     "data": {
      "text/plain": [
       "(1, 2, 3, 4, 5, 6, 7, 8, 9)"
      ]
     },
     "execution_count": 16,
     "metadata": {},
     "output_type": "execute_result"
    }
   ],
   "source": [
    "tuple(range(1,10))"
   ]
  },
  {
   "cell_type": "code",
   "execution_count": 17,
   "id": "328c2c12-f1e9-4326-8855-a2681bca90e0",
   "metadata": {},
   "outputs": [
    {
     "data": {
      "text/plain": [
       "(1, 3, 5, 7, 9, 11, 13, 15, 17, 19)"
      ]
     },
     "execution_count": 17,
     "metadata": {},
     "output_type": "execute_result"
    }
   ],
   "source": [
    "tuple(range(1,21,2))"
   ]
  },
  {
   "cell_type": "code",
   "execution_count": null,
   "id": "6dc395e2-033c-4949-8871-2a8bcd294d36",
   "metadata": {},
   "outputs": [],
   "source": []
  }
 ],
 "metadata": {
  "kernelspec": {
   "display_name": "Python 3 (ipykernel)",
   "language": "python",
   "name": "python3"
  },
  "language_info": {
   "codemirror_mode": {
    "name": "ipython",
    "version": 3
   },
   "file_extension": ".py",
   "mimetype": "text/x-python",
   "name": "python",
   "nbconvert_exporter": "python",
   "pygments_lexer": "ipython3",
   "version": "3.13.2"
  }
 },
 "nbformat": 4,
 "nbformat_minor": 5
}
