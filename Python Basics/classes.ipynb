{
 "cells": [
  {
   "cell_type": "code",
   "execution_count": 1,
   "id": "59c80033-4d0c-4bd9-9011-ffde7bc70731",
   "metadata": {},
   "outputs": [],
   "source": [
    "class newList:\n",
    "    def __init__(self):\n",
    "        self._items = []\n",
    "\n",
    "    def add(self, item):\n",
    "        self._items.append(item)\n",
    "\n",
    "    def __getitem__(self, index):\n",
    "        return self._items[index]\n",
    "\n",
    "    def __setitem__(self, index, value):\n",
    "        self._items[index] = value\n",
    "\n",
    "    def __repr__(self):\n",
    "        return str(self._items)\n",
    "\n",
    "    def __len__(self):\n",
    "        return len(self._items)"
   ]
  },
  {
   "cell_type": "code",
   "execution_count": 2,
   "id": "9c5c008e-9b83-4604-aa29-38d8b50be69b",
   "metadata": {},
   "outputs": [],
   "source": [
    "my_list = newList()"
   ]
  },
  {
   "cell_type": "code",
   "execution_count": 3,
   "id": "bded6ca8-3486-4c4f-aff4-3bc39bf97530",
   "metadata": {},
   "outputs": [
    {
     "data": {
      "text/plain": [
       "[]"
      ]
     },
     "execution_count": 3,
     "metadata": {},
     "output_type": "execute_result"
    }
   ],
   "source": [
    "my_list"
   ]
  },
  {
   "cell_type": "code",
   "execution_count": 4,
   "id": "fbbcd33f-d43c-4585-a33e-7885e33b5f65",
   "metadata": {},
   "outputs": [],
   "source": [
    "my_list.add(\"Python\")"
   ]
  },
  {
   "cell_type": "code",
   "execution_count": 5,
   "id": "e071c52d-24af-4be5-969c-85b337ec1c67",
   "metadata": {},
   "outputs": [
    {
     "data": {
      "text/plain": [
       "['Python']"
      ]
     },
     "execution_count": 5,
     "metadata": {},
     "output_type": "execute_result"
    }
   ],
   "source": [
    "my_list"
   ]
  },
  {
   "cell_type": "code",
   "execution_count": 6,
   "id": "0e1ac149-43e2-4f6c-ba9e-c5727d0d9cbf",
   "metadata": {},
   "outputs": [],
   "source": [
    "my_list.add(\"sql\")"
   ]
  },
  {
   "cell_type": "code",
   "execution_count": 7,
   "id": "484c4cec-b679-43b0-b20f-a8868c1fd88a",
   "metadata": {},
   "outputs": [
    {
     "data": {
      "text/plain": [
       "['Python', 'sql']"
      ]
     },
     "execution_count": 7,
     "metadata": {},
     "output_type": "execute_result"
    }
   ],
   "source": [
    "my_list"
   ]
  },
  {
   "cell_type": "code",
   "execution_count": 8,
   "id": "7d1361d2-1389-49b6-88da-4cf82700c1ab",
   "metadata": {},
   "outputs": [
    {
     "data": {
      "text/plain": [
       "2"
      ]
     },
     "execution_count": 8,
     "metadata": {},
     "output_type": "execute_result"
    }
   ],
   "source": [
    "len(my_list)"
   ]
  },
  {
   "cell_type": "code",
   "execution_count": 9,
   "id": "31632e93-5060-4f18-a6b0-aea397d9c327",
   "metadata": {},
   "outputs": [],
   "source": [
    "class BaseSalary:\n",
    "    def __init__(self, base_salary, bonus_rate = 0.1, symbol = '$' ):\n",
    "        self.base_salary = base_salary\n",
    "        self.bonus_rate = bonus_rate\n",
    "        self.symbol = symbol\n",
    "        self.total_salary = base_salary * (1 + bonus_rate)\n",
    "        self.bonus = self.total_salary - self.base_salary\n",
    "\n",
    "    def __repr__(self):\n",
    "        return f'{self.symbol}{self.base_salary:,.0f}'\n",
    "\n",
    "    def calculate_salary(self):\n",
    "        return f'{self.symbol}{self.total_salary:,.0f}'\n",
    "\n",
    "    def calculate_bonus(self):\n",
    "        return f'{self.symbol}{self.bonus:,.0f}'"
   ]
  },
  {
   "cell_type": "code",
   "execution_count": 10,
   "id": "d6c74f34-09a6-448c-852c-3e7b0ac7c0d9",
   "metadata": {},
   "outputs": [
    {
     "data": {
      "text/plain": [
       "100000"
      ]
     },
     "execution_count": 10,
     "metadata": {},
     "output_type": "execute_result"
    }
   ],
   "source": [
    "salary = BaseSalary(100000)\n",
    "salary.base_salary"
   ]
  },
  {
   "cell_type": "code",
   "execution_count": 11,
   "id": "6c70e7b7-5938-46b1-a2dd-97733f12dd5a",
   "metadata": {},
   "outputs": [
    {
     "data": {
      "text/plain": [
       "'$'"
      ]
     },
     "execution_count": 11,
     "metadata": {},
     "output_type": "execute_result"
    }
   ],
   "source": [
    "salary.symbol"
   ]
  },
  {
   "cell_type": "code",
   "execution_count": 12,
   "id": "9a29e565-4f0f-4eed-8369-516c895f9212",
   "metadata": {},
   "outputs": [
    {
     "data": {
      "text/plain": [
       "$100,000"
      ]
     },
     "execution_count": 12,
     "metadata": {},
     "output_type": "execute_result"
    }
   ],
   "source": [
    "salary"
   ]
  },
  {
   "cell_type": "code",
   "execution_count": 13,
   "id": "ebe327ed-cd4f-4061-ba78-75898881707a",
   "metadata": {},
   "outputs": [
    {
     "data": {
      "text/plain": [
       "'100,000.00'"
      ]
     },
     "execution_count": 13,
     "metadata": {},
     "output_type": "execute_result"
    }
   ],
   "source": [
    "value = 100000\n",
    "f'{value:,.2f}'      # .2 --> decimal places after number     , --> adds commas"
   ]
  },
  {
   "cell_type": "code",
   "execution_count": 14,
   "id": "a94082ac-d825-4ade-8147-9a561f618603",
   "metadata": {},
   "outputs": [
    {
     "data": {
      "text/plain": [
       "'$110,000'"
      ]
     },
     "execution_count": 14,
     "metadata": {},
     "output_type": "execute_result"
    }
   ],
   "source": [
    "salary.calculate_salary()"
   ]
  },
  {
   "cell_type": "code",
   "execution_count": 15,
   "id": "ae38bb20-635a-446c-b888-5f66fe809efa",
   "metadata": {},
   "outputs": [
    {
     "data": {
      "text/plain": [
       "'$10,000'"
      ]
     },
     "execution_count": 15,
     "metadata": {},
     "output_type": "execute_result"
    }
   ],
   "source": [
    "salary.calculate_bonus()"
   ]
  },
  {
   "cell_type": "code",
   "execution_count": null,
   "id": "d30a853c-3996-4f2e-8cad-5b15ddaa3301",
   "metadata": {},
   "outputs": [],
   "source": []
  }
 ],
 "metadata": {
  "kernelspec": {
   "display_name": "Python 3 (ipykernel)",
   "language": "python",
   "name": "python3"
  },
  "language_info": {
   "codemirror_mode": {
    "name": "ipython",
    "version": 3
   },
   "file_extension": ".py",
   "mimetype": "text/x-python",
   "name": "python",
   "nbconvert_exporter": "python",
   "pygments_lexer": "ipython3",
   "version": "3.11.13"
  }
 },
 "nbformat": 4,
 "nbformat_minor": 5
}
