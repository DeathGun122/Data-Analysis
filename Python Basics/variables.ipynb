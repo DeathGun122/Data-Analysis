{
 "cells": [
  {
   "cell_type": "code",
   "execution_count": 2,
   "id": "82633b83-4a83-4b49-a34b-329e8e252e7b",
   "metadata": {},
   "outputs": [],
   "source": [
    "salary = 100000"
   ]
  },
  {
   "cell_type": "code",
   "execution_count": 4,
   "id": "432bf240-94ec-4ab8-bfa0-0c14fc28d595",
   "metadata": {},
   "outputs": [
    {
     "data": {
      "text/plain": [
       "100000"
      ]
     },
     "execution_count": 4,
     "metadata": {},
     "output_type": "execute_result"
    }
   ],
   "source": [
    "salary"
   ]
  },
  {
   "cell_type": "code",
   "execution_count": 5,
   "id": "8f5b6e8a-847b-4f2f-8973-496eab995b93",
   "metadata": {},
   "outputs": [],
   "source": [
    "base_salary = 100000\n",
    "bonus_rate = .10"
   ]
  },
  {
   "cell_type": "code",
   "execution_count": 6,
   "id": "38fc411e-5aff-4dea-b897-51c4b9896b4d",
   "metadata": {},
   "outputs": [],
   "source": [
    "total_salary = (base_salary)*(1+bonus_rate)"
   ]
  },
  {
   "cell_type": "code",
   "execution_count": 7,
   "id": "67080762-9d27-4b35-90d0-30abb80d65c9",
   "metadata": {},
   "outputs": [
    {
     "data": {
      "text/plain": [
       "110000.00000000001"
      ]
     },
     "execution_count": 7,
     "metadata": {},
     "output_type": "execute_result"
    }
   ],
   "source": [
    "total_salary"
   ]
  },
  {
   "cell_type": "code",
   "execution_count": 8,
   "id": "5d1fe2bd-7639-4320-9f28-00cadd0c1e5d",
   "metadata": {},
   "outputs": [],
   "source": [
    "company_name = 'DataWiz Inc.'"
   ]
  },
  {
   "cell_type": "code",
   "execution_count": 9,
   "id": "6fd2f9de-d53e-4bac-b22e-d93ba0945777",
   "metadata": {},
   "outputs": [
    {
     "data": {
      "text/plain": [
       "'DataWiz Inc.'"
      ]
     },
     "execution_count": 9,
     "metadata": {},
     "output_type": "execute_result"
    }
   ],
   "source": [
    "company_name"
   ]
  },
  {
   "cell_type": "code",
   "execution_count": 10,
   "id": "ffb60869-94c9-4a50-ae2a-72e908436244",
   "metadata": {},
   "outputs": [],
   "source": [
    "job_wfh = True"
   ]
  },
  {
   "cell_type": "code",
   "execution_count": 11,
   "id": "19debd93-6313-4f8d-b7bd-0cb5b9ae4080",
   "metadata": {},
   "outputs": [
    {
     "data": {
      "text/plain": [
       "True"
      ]
     },
     "execution_count": 11,
     "metadata": {},
     "output_type": "execute_result"
    }
   ],
   "source": [
    "job_wfh"
   ]
  },
  {
   "cell_type": "code",
   "execution_count": null,
   "id": "5389bc18-87a9-4090-bc72-18384cd9385a",
   "metadata": {},
   "outputs": [],
   "source": []
  }
 ],
 "metadata": {
  "kernelspec": {
   "display_name": "Python 3 (ipykernel)",
   "language": "python",
   "name": "python3"
  },
  "language_info": {
   "codemirror_mode": {
    "name": "ipython",
    "version": 3
   },
   "file_extension": ".py",
   "mimetype": "text/x-python",
   "name": "python",
   "nbconvert_exporter": "python",
   "pygments_lexer": "ipython3",
   "version": "3.13.2"
  }
 },
 "nbformat": 4,
 "nbformat_minor": 5
}
