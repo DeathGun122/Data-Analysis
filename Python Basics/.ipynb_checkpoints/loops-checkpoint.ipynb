{
 "cells": [
  {
   "cell_type": "code",
   "execution_count": 4,
   "id": "9915dcf8-b929-457a-be1e-06f923b874b2",
   "metadata": {},
   "outputs": [
    {
     "name": "stdout",
     "output_type": "stream",
     "text": [
      "0\n",
      "1\n",
      "2\n",
      "3\n",
      "4\n",
      "5\n"
     ]
    }
   ],
   "source": [
    "numbers = [0,1,2,3,4,5]\n",
    "\n",
    "for number in numbers:\n",
    "    print(number)"
   ]
  },
  {
   "cell_type": "code",
   "execution_count": 8,
   "id": "b066f00a-c16e-4bb4-aa2b-d7b4b9d3cf41",
   "metadata": {},
   "outputs": [
    {
     "name": "stdout",
     "output_type": "stream",
     "text": [
      "25\n",
      "26\n",
      "10\n",
      "19\n",
      "20\n",
      "26\n",
      "15\n",
      "30\n",
      "13\n",
      "12\n",
      "29\n",
      "9\n",
      "1\n",
      "11\n",
      "19\n",
      "25\n",
      "11\n",
      "7\n",
      "9\n",
      "6\n",
      "15\n",
      "2\n",
      "6\n",
      "8\n",
      "28\n"
     ]
    }
   ],
   "source": [
    "for values in years_experience.values():\n",
    "    print(values)"
   ]
  },
  {
   "cell_type": "code",
   "execution_count": 5,
   "id": "c2e338fc-20ff-469b-9abc-542a722b0a66",
   "metadata": {},
   "outputs": [
    {
     "name": "stdout",
     "output_type": "stream",
     "text": [
      "P\n",
      "Y\n",
      "T\n",
      "H\n",
      "O\n",
      "N\n"
     ]
    }
   ],
   "source": [
    "characters = 'PYTHON'\n",
    "for c in characters:\n",
    "    print(c)"
   ]
  },
  {
   "cell_type": "code",
   "execution_count": 6,
   "id": "c7080401-2ac8-41a5-84cb-1d0708c637c1",
   "metadata": {},
   "outputs": [
    {
     "name": "stdout",
     "output_type": "stream",
     "text": [
      "{'Alice': 25, 'Bob': 26, 'Charlie': 10, 'Diana': 19, 'Ethan': 20, 'Fiona': 26, 'George': 15, 'Hannah': 30, 'Ian': 13, 'Julia': 12, 'Kevin': 29, 'Laura': 9, 'Mike': 1, 'Nina': 11, 'Oscar': 19, 'Paula': 25, 'Quinn': 11, 'Rachel': 7, 'Steve': 9, 'Tina': 6, 'Umar': 15, 'Violet': 2, 'Will': 6, 'Xena': 8, 'Yusuf': 28}\n"
     ]
    }
   ],
   "source": [
    "import random\n",
    "\n",
    "names = [\n",
    "    \"Alice\", \"Bob\", \"Charlie\", \"Diana\", \"Ethan\", \"Fiona\", \"George\", \"Hannah\",\n",
    "    \"Ian\", \"Julia\", \"Kevin\", \"Laura\", \"Mike\", \"Nina\", \"Oscar\", \"Paula\", \"Quinn\",\n",
    "    \"Rachel\", \"Steve\", \"Tina\", \"Umar\", \"Violet\", \"Will\", \"Xena\", \"Yusuf\"\n",
    "]\n",
    "\n",
    "years_experience = {name: random.randint(0, 30) for name in names}\n",
    "\n",
    "print(years_experience)"
   ]
  },
  {
   "cell_type": "code",
   "execution_count": 11,
   "id": "58a4c4d9-a552-4183-bc9c-6fa5a50f429c",
   "metadata": {},
   "outputs": [
    {
     "name": "stdout",
     "output_type": "stream",
     "text": [
      "Alice has 25 years experience\n",
      "Bob has 26 years experience\n",
      "Fiona has 26 years experience\n",
      "Hannah has 30 years experience\n",
      "Kevin has 29 years experience\n",
      "Paula has 25 years experience\n",
      "Yusuf has 28 years experience\n"
     ]
    }
   ],
   "source": [
    "for key, value in years_experience.items():\n",
    "    if value > 20:\n",
    "        print(key, 'has', value, 'years experience')"
   ]
  },
  {
   "cell_type": "code",
   "execution_count": 12,
   "id": "be53c13d-9e1f-4e1e-aa24-942bbd9b2556",
   "metadata": {},
   "outputs": [
    {
     "name": "stdout",
     "output_type": "stream",
     "text": [
      "0\n",
      "1\n",
      "2\n",
      "3\n",
      "4\n"
     ]
    }
   ],
   "source": [
    "for n in range(5):\n",
    "    print(n)"
   ]
  },
  {
   "cell_type": "code",
   "execution_count": 15,
   "id": "31b2f88b-1658-4837-af0a-31a559107ebc",
   "metadata": {},
   "outputs": [
    {
     "name": "stdout",
     "output_type": "stream",
     "text": [
      "1\n",
      "2\n",
      "3\n",
      "4\n"
     ]
    }
   ],
   "source": [
    "count = 1\n",
    "while count < 5:\n",
    "    print(count)\n",
    "    count += 1"
   ]
  },
  {
   "cell_type": "code",
   "execution_count": 16,
   "id": "43d745cf-f9c7-4857-8509-99de3c68302f",
   "metadata": {},
   "outputs": [],
   "source": [
    "years_experience = {\n",
    "    \"Alice\": 4,\n",
    "    \"Bob\": 9,\n",
    "    \"Charlie\": 2,\n",
    "    \"Diana\": 7,\n",
    "    \"Ethan\": 5\n",
    "}"
   ]
  },
  {
   "cell_type": "code",
   "execution_count": 18,
   "id": "40abc10c-1044-4366-9002-0972ba0fed73",
   "metadata": {},
   "outputs": [
    {
     "name": "stdout",
     "output_type": "stream",
     "text": [
      "Bob 9\n"
     ]
    }
   ],
   "source": [
    "years = 0\n",
    "index = 0\n",
    "years_list = list(years_experience.items())\n",
    "while years < 5:\n",
    "    key, years = years_list[index]\n",
    "    if years >= 5:\n",
    "        print(key, years)\n",
    "    index += 1"
   ]
  },
  {
   "cell_type": "code",
   "execution_count": null,
   "id": "fd46172e-f0e7-415a-aafe-172613abc328",
   "metadata": {},
   "outputs": [],
   "source": []
  }
 ],
 "metadata": {
  "kernelspec": {
   "display_name": "Python 3 (ipykernel)",
   "language": "python",
   "name": "python3"
  },
  "language_info": {
   "codemirror_mode": {
    "name": "ipython",
    "version": 3
   },
   "file_extension": ".py",
   "mimetype": "text/x-python",
   "name": "python",
   "nbconvert_exporter": "python",
   "pygments_lexer": "ipython3",
   "version": "3.13.2"
  }
 },
 "nbformat": 4,
 "nbformat_minor": 5
}
