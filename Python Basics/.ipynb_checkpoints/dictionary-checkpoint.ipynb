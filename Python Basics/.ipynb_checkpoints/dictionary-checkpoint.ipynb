{
 "cells": [
  {
   "cell_type": "code",
   "execution_count": 4,
   "id": "e973f033-7d8b-47e4-a7b5-e4b847a2129b",
   "metadata": {},
   "outputs": [],
   "source": [
    "job_skills = {\n",
    "    'database': 'postgresql', \n",
    "    'language': 'python', \n",
    "    'library': 'pandas'\n",
    "}"
   ]
  },
  {
   "cell_type": "code",
   "execution_count": 5,
   "id": "26bb7339-4752-459b-9c29-79370116a303",
   "metadata": {},
   "outputs": [
    {
     "data": {
      "text/plain": [
       "{'database': 'postgresql', 'language': 'python', 'library': 'pandas'}"
      ]
     },
     "execution_count": 5,
     "metadata": {},
     "output_type": "execute_result"
    }
   ],
   "source": [
    "job_skills"
   ]
  },
  {
   "cell_type": "code",
   "execution_count": 6,
   "id": "e505e217-0c49-4270-811e-8e1896219f03",
   "metadata": {},
   "outputs": [
    {
     "data": {
      "text/plain": [
       "'postgresql'"
      ]
     },
     "execution_count": 6,
     "metadata": {},
     "output_type": "execute_result"
    }
   ],
   "source": [
    "job_skills['database']"
   ]
  },
  {
   "cell_type": "code",
   "execution_count": 7,
   "id": "5386939f-39da-4b27-adfc-6c64d0fc2748",
   "metadata": {},
   "outputs": [
    {
     "data": {
      "text/plain": [
       "dict_keys(['database', 'language', 'library'])"
      ]
     },
     "execution_count": 7,
     "metadata": {},
     "output_type": "execute_result"
    }
   ],
   "source": [
    "job_skills.keys()"
   ]
  },
  {
   "cell_type": "code",
   "execution_count": 8,
   "id": "7eba2098-1752-4f29-8f7c-29dbef3b010a",
   "metadata": {},
   "outputs": [
    {
     "data": {
      "text/plain": [
       "dict_values(['postgresql', 'python', 'pandas'])"
      ]
     },
     "execution_count": 8,
     "metadata": {},
     "output_type": "execute_result"
    }
   ],
   "source": [
    "job_skills.values()"
   ]
  },
  {
   "cell_type": "code",
   "execution_count": 9,
   "id": "6b80ac77-2849-4cf0-a5cf-8b388a41b5de",
   "metadata": {},
   "outputs": [
    {
     "data": {
      "text/plain": [
       "'pandas'"
      ]
     },
     "execution_count": 9,
     "metadata": {},
     "output_type": "execute_result"
    }
   ],
   "source": [
    "job_skills.pop('library')"
   ]
  },
  {
   "cell_type": "code",
   "execution_count": 10,
   "id": "2f30c0c5-0664-4161-a08a-6eaf9f9163ea",
   "metadata": {},
   "outputs": [
    {
     "data": {
      "text/plain": [
       "{'database': 'postgresql', 'language': 'python'}"
      ]
     },
     "execution_count": 10,
     "metadata": {},
     "output_type": "execute_result"
    }
   ],
   "source": [
    "job_skills"
   ]
  },
  {
   "cell_type": "code",
   "execution_count": 11,
   "id": "782e3cbc-6770-4dd6-92ad-6655d4944ecd",
   "metadata": {},
   "outputs": [],
   "source": [
    "job_skills.update({'cloud': 'google cloud'})"
   ]
  },
  {
   "cell_type": "code",
   "execution_count": 12,
   "id": "7eaf42b6-e1c6-49ee-8a5c-2957df1f0c1c",
   "metadata": {},
   "outputs": [
    {
     "data": {
      "text/plain": [
       "{'database': 'postgresql', 'language': 'python', 'cloud': 'google cloud'}"
      ]
     },
     "execution_count": 12,
     "metadata": {},
     "output_type": "execute_result"
    }
   ],
   "source": [
    "job_skills"
   ]
  },
  {
   "cell_type": "code",
   "execution_count": 13,
   "id": "923361d6-6643-401f-99bb-9aeff8064df4",
   "metadata": {},
   "outputs": [
    {
     "data": {
      "text/plain": [
       "'google cloud'"
      ]
     },
     "execution_count": 13,
     "metadata": {},
     "output_type": "execute_result"
    }
   ],
   "source": [
    "job_skills['cloud']"
   ]
  },
  {
   "cell_type": "code",
   "execution_count": 16,
   "id": "9012313f-f0ea-4657-bba0-5b7c81d1c47f",
   "metadata": {},
   "outputs": [],
   "source": [
    "job_skills['version_control'] = 'git'"
   ]
  },
  {
   "cell_type": "code",
   "execution_count": 17,
   "id": "4c145b62-05eb-40a6-a2fa-d27889dfd722",
   "metadata": {},
   "outputs": [
    {
     "data": {
      "text/plain": [
       "{'database': 'postgresql',\n",
       " 'language': 'python',\n",
       " 'cloud': 'google cloud',\n",
       " 'version_control': 'git'}"
      ]
     },
     "execution_count": 17,
     "metadata": {},
     "output_type": "execute_result"
    }
   ],
   "source": [
    "job_skills"
   ]
  },
  {
   "cell_type": "code",
   "execution_count": 18,
   "id": "eeed569e-a6da-42ba-83c2-b1801720e298",
   "metadata": {},
   "outputs": [],
   "source": [
    "# key value pairs, duplicates allowed (only values), mutable"
   ]
  },
  {
   "cell_type": "code",
   "execution_count": null,
   "id": "e81f5719-6021-408c-81a9-a9dc75729d7a",
   "metadata": {},
   "outputs": [],
   "source": []
  }
 ],
 "metadata": {
  "kernelspec": {
   "display_name": "Python 3 (ipykernel)",
   "language": "python",
   "name": "python3"
  },
  "language_info": {
   "codemirror_mode": {
    "name": "ipython",
    "version": 3
   },
   "file_extension": ".py",
   "mimetype": "text/x-python",
   "name": "python",
   "nbconvert_exporter": "python",
   "pygments_lexer": "ipython3",
   "version": "3.13.2"
  }
 },
 "nbformat": 4,
 "nbformat_minor": 5
}
