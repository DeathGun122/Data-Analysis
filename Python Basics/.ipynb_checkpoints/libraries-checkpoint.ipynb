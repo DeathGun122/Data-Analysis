{
 "cells": [
  {
   "cell_type": "code",
   "execution_count": 8,
   "id": "64ae48c9-80fa-4c44-a535-f9e23c766ae4",
   "metadata": {},
   "outputs": [],
   "source": [
    "file = open('10kDiabetes.csv')"
   ]
  },
  {
   "cell_type": "code",
   "execution_count": 9,
   "id": "7eaaaf3c-a3df-4f92-83e6-59adce5161f5",
   "metadata": {},
   "outputs": [],
   "source": [
    "content = file.read()\n",
    "file.close()"
   ]
  },
  {
   "cell_type": "code",
   "execution_count": 10,
   "id": "9edbd3ad-8daa-4ec0-a613-de7d13f5128a",
   "metadata": {},
   "outputs": [],
   "source": [
    "import csv\n",
    "\n",
    "data_dict = {}\n",
    "for index, row in enumerate(csv.reader(content.strip().split('\\n'))):\n",
    "    if index == 0:\n",
    "        for column in row:\n",
    "            data_dict[column] = []\n",
    "    else:\n",
    "        for col_index, value in enumerate(row):\n",
    "            data_dict[list(data_dict.keys())[col_index]].append(value)"
   ]
  },
  {
   "cell_type": "code",
   "execution_count": 15,
   "id": "386d2ec5-3537-4ee2-9be5-6aa5c82cedfe",
   "metadata": {},
   "outputs": [
    {
     "ename": "ModuleNotFoundError",
     "evalue": "No module named 'pandas'",
     "output_type": "error",
     "traceback": [
      "\u001b[0;31m---------------------------------------------------------------------------\u001b[0m",
      "\u001b[0;31mModuleNotFoundError\u001b[0m                       Traceback (most recent call last)",
      "Cell \u001b[0;32mIn[15], line 1\u001b[0m\n\u001b[0;32m----> 1\u001b[0m \u001b[38;5;28;01mimport\u001b[39;00m\u001b[38;5;250m \u001b[39m\u001b[38;5;21;01mpandas\u001b[39;00m\u001b[38;5;250m \u001b[39m\u001b[38;5;28;01mas\u001b[39;00m\u001b[38;5;250m \u001b[39m\u001b[38;5;21;01mpd\u001b[39;00m\n",
      "\u001b[0;31mModuleNotFoundError\u001b[0m: No module named 'pandas'"
     ]
    }
   ],
   "source": [
    "import pandas as pd"
   ]
  },
  {
   "cell_type": "code",
   "execution_count": null,
   "id": "e8870040-16e5-44ad-8306-6c17cb20b347",
   "metadata": {},
   "outputs": [],
   "source": []
  }
 ],
 "metadata": {
  "kernelspec": {
   "display_name": "Python 3 (ipykernel)",
   "language": "python",
   "name": "python3"
  },
  "language_info": {
   "codemirror_mode": {
    "name": "ipython",
    "version": 3
   },
   "file_extension": ".py",
   "mimetype": "text/x-python",
   "name": "python",
   "nbconvert_exporter": "python",
   "pygments_lexer": "ipython3",
   "version": "3.11.13"
  }
 },
 "nbformat": 4,
 "nbformat_minor": 5
}
