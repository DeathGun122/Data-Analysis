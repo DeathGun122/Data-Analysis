{
 "cells": [
  {
   "cell_type": "code",
   "execution_count": 1,
   "id": "53ea0003-9548-41b9-874c-8ffa80dabc9e",
   "metadata": {},
   "outputs": [],
   "source": [
    "# Build in: print, type, help, range, min, max, sum, sorted"
   ]
  },
  {
   "cell_type": "code",
   "execution_count": 2,
   "id": "3585cd67-0f8b-4120-9fff-c39c8b81fe31",
   "metadata": {},
   "outputs": [],
   "source": [
    "salaries = [1092221, 1212122, 9239289, 8323983, 8298392839, 2928392839]"
   ]
  },
  {
   "cell_type": "code",
   "execution_count": 3,
   "id": "041cbb30-bd11-4aaa-958f-efdce7a14bae",
   "metadata": {},
   "outputs": [
    {
     "data": {
      "text/plain": [
       "1092221"
      ]
     },
     "execution_count": 3,
     "metadata": {},
     "output_type": "execute_result"
    }
   ],
   "source": [
    "min(salaries)"
   ]
  },
  {
   "cell_type": "code",
   "execution_count": 4,
   "id": "50367dc0-1952-40f6-9d09-03712f62c00d",
   "metadata": {},
   "outputs": [
    {
     "data": {
      "text/plain": [
       "8298392839"
      ]
     },
     "execution_count": 4,
     "metadata": {},
     "output_type": "execute_result"
    }
   ],
   "source": [
    "max(salaries)"
   ]
  },
  {
   "cell_type": "code",
   "execution_count": 5,
   "id": "5eb02d86-9386-4611-927f-398f73efcb9d",
   "metadata": {},
   "outputs": [
    {
     "data": {
      "text/plain": [
       "11246653293"
      ]
     },
     "execution_count": 5,
     "metadata": {},
     "output_type": "execute_result"
    }
   ],
   "source": [
    "sum(salaries)"
   ]
  },
  {
   "cell_type": "code",
   "execution_count": 6,
   "id": "d2ec91d2-2ced-4c3b-8eff-67dba6db0204",
   "metadata": {},
   "outputs": [
    {
     "data": {
      "text/plain": [
       "[1092221, 1212122, 8323983, 9239289, 2928392839, 8298392839]"
      ]
     },
     "execution_count": 6,
     "metadata": {},
     "output_type": "execute_result"
    }
   ],
   "source": [
    "sorted(salaries)"
   ]
  },
  {
   "cell_type": "code",
   "execution_count": 7,
   "id": "d5a88a42-8c19-4797-a882-c4bbdf8ecd4e",
   "metadata": {},
   "outputs": [],
   "source": [
    "# User defined functions"
   ]
  },
  {
   "cell_type": "code",
   "execution_count": 11,
   "id": "23ce6a52-c0af-4231-8a52-2179c572fe5a",
   "metadata": {},
   "outputs": [],
   "source": [
    "def calculate_salary(base_salary, bonus_rate):\n",
    "    total_salary = base_salary * (1 + bonus_rate)\n",
    "    return total_salary"
   ]
  },
  {
   "cell_type": "code",
   "execution_count": 12,
   "id": "ce62d111-e111-4f4f-be6a-87e606a6ead4",
   "metadata": {},
   "outputs": [
    {
     "data": {
      "text/plain": [
       "11500.0"
      ]
     },
     "execution_count": 12,
     "metadata": {},
     "output_type": "execute_result"
    }
   ],
   "source": [
    "calculate_salary(10000, 0.15)"
   ]
  },
  {
   "cell_type": "code",
   "execution_count": 13,
   "id": "ae746ec1-47fd-463a-b138-42bcf54ede94",
   "metadata": {},
   "outputs": [],
   "source": [
    "# Optional args"
   ]
  },
  {
   "cell_type": "code",
   "execution_count": 19,
   "id": "9f7f1801-3295-414a-bd11-58d17fa89f7c",
   "metadata": {},
   "outputs": [
    {
     "data": {
      "text/plain": [
       "1190000.0"
      ]
     },
     "execution_count": 19,
     "metadata": {},
     "output_type": "execute_result"
    }
   ],
   "source": [
    "def calculate_salary(base_salary, bonus_rate = 0.2):\n",
    "    total_salary = base_salary * (1 + bonus_rate)\n",
    "    return total_salary\n",
    "\n",
    "calculate_salary(1000000, 0.19)"
   ]
  },
  {
   "cell_type": "code",
   "execution_count": 20,
   "id": "a8210acc-3847-4e4a-9ddc-00b497548704",
   "metadata": {},
   "outputs": [
    {
     "data": {
      "text/plain": [
       "118581.59999999999"
      ]
     },
     "execution_count": 20,
     "metadata": {},
     "output_type": "execute_result"
    }
   ],
   "source": [
    "calculate_salary(98818)"
   ]
  },
  {
   "cell_type": "code",
   "execution_count": 1,
   "id": "1bddd8a2-4e6e-4cc8-bcb6-7eacbd99ed21",
   "metadata": {},
   "outputs": [],
   "source": [
    "# lambda"
   ]
  },
  {
   "cell_type": "code",
   "execution_count": 4,
   "id": "aff46844-3ae1-440b-87cf-adf070149110",
   "metadata": {},
   "outputs": [],
   "source": [
    "mul_two = lambda x: x * 2"
   ]
  },
  {
   "cell_type": "code",
   "execution_count": 5,
   "id": "7fefe2dd-b40b-40c4-8d89-58a4d6f38665",
   "metadata": {},
   "outputs": [
    {
     "data": {
      "text/plain": [
       "46"
      ]
     },
     "execution_count": 5,
     "metadata": {},
     "output_type": "execute_result"
    }
   ],
   "source": [
    "mul_two(23)"
   ]
  },
  {
   "cell_type": "code",
   "execution_count": 6,
   "id": "a4ebdced-bf33-47ed-a6f1-c06b46380e4b",
   "metadata": {},
   "outputs": [
    {
     "data": {
      "text/plain": [
       "46"
      ]
     },
     "execution_count": 6,
     "metadata": {},
     "output_type": "execute_result"
    }
   ],
   "source": [
    "(lambda x: x *2)(23)"
   ]
  },
  {
   "cell_type": "code",
   "execution_count": 7,
   "id": "b5145d05-2fce-4b15-8a30-40b69a0765ea",
   "metadata": {},
   "outputs": [
    {
     "data": {
      "text/plain": [
       "10"
      ]
     },
     "execution_count": 7,
     "metadata": {},
     "output_type": "execute_result"
    }
   ],
   "source": [
    "(lambda x, y : x * 2 + y)(3,4)"
   ]
  },
  {
   "cell_type": "code",
   "execution_count": 8,
   "id": "0ea00121-5b12-4616-8132-685992a45a33",
   "metadata": {},
   "outputs": [],
   "source": [
    "salary_list = [100000, 200000, 300000, 130000, 120000, 200000]"
   ]
  },
  {
   "cell_type": "code",
   "execution_count": 12,
   "id": "bbf1dcc0-f34b-4152-88af-7d7bd33073e7",
   "metadata": {},
   "outputs": [
    {
     "data": {
      "text/plain": [
       "[110000.00000000001,\n",
       " 220000.00000000003,\n",
       " 330000.0,\n",
       " 143000.0,\n",
       " 132000.0,\n",
       " 220000.00000000003]"
      ]
     },
     "execution_count": 12,
     "metadata": {},
     "output_type": "execute_result"
    }
   ],
   "source": [
    "# def calculate_salary(base_salary, bonus_rate = 0.1):\n",
    "#     total_salary = base_salary * (1 + bonus_rate)\n",
    "#     return total_salary\n",
    "\n",
    "total_salary_list = [(lambda x : x * 1.1)(salary) for salary in salary_list]\n",
    "total_salary_list"
   ]
  },
  {
   "cell_type": "code",
   "execution_count": 14,
   "id": "d02a1deb-87c8-413f-b011-08149d91ad05",
   "metadata": {},
   "outputs": [],
   "source": [
    "job_data = [\n",
    "    {\n",
    "        \"job_title\": \"Data Scientist\",\n",
    "        \"job_skills\": [\"Python\", \"Pandas\", \"Scikit-learn\", \"SQL\"],\n",
    "        \"remote\": True\n",
    "    },\n",
    "    {\n",
    "        \"job_title\": \"Machine Learning Engineer\",\n",
    "        \"job_skills\": [\"Python\", \"TensorFlow\", \"PyTorch\", \"ML Algorithms\"],\n",
    "        \"remote\": False\n",
    "    },\n",
    "    {\n",
    "        \"job_title\": \"Data Analyst\",\n",
    "        \"job_skills\": [\"Excel\", \"SQL\", \"Tableau\", \"Data Visualization\"],\n",
    "        \"remote\": True\n",
    "    },\n",
    "    {\n",
    "        \"job_title\": \"Research Scientist (AI)\",\n",
    "        \"job_skills\": [\"Deep Learning\", \"NLP\", \"PyTorch\", \"Mathematics\"],\n",
    "        \"remote\": True\n",
    "    },\n",
    "    {\n",
    "        \"job_title\": \"Data Engineer\",\n",
    "        \"job_skills\": [\"Python\", \"Airflow\", \"Spark\", \"ETL Pipelines\"],\n",
    "        \"remote\": False\n",
    "    }\n",
    "]\n"
   ]
  },
  {
   "cell_type": "code",
   "execution_count": 15,
   "id": "750fff14-c881-4442-ba77-13c1f599138d",
   "metadata": {},
   "outputs": [],
   "source": [
    "# filter"
   ]
  },
  {
   "cell_type": "code",
   "execution_count": 19,
   "id": "42655ddc-31e6-4c9d-81ef-81d014a80b83",
   "metadata": {},
   "outputs": [
    {
     "data": {
      "text/plain": [
       "[{'job_title': 'Data Scientist',\n",
       "  'job_skills': ['Python', 'Pandas', 'Scikit-learn', 'SQL'],\n",
       "  'remote': True}]"
      ]
     },
     "execution_count": 19,
     "metadata": {},
     "output_type": "execute_result"
    }
   ],
   "source": [
    "list(filter(lambda job: job['remote'] and 'Python' in job['job_skills'], job_data))"
   ]
  },
  {
   "cell_type": "code",
   "execution_count": null,
   "id": "91eeaa96-b511-427d-8cc9-d9a02ebfe3f2",
   "metadata": {},
   "outputs": [],
   "source": []
  }
 ],
 "metadata": {
  "kernelspec": {
   "display_name": "Python 3 (ipykernel)",
   "language": "python",
   "name": "python3"
  },
  "language_info": {
   "codemirror_mode": {
    "name": "ipython",
    "version": 3
   },
   "file_extension": ".py",
   "mimetype": "text/x-python",
   "name": "python",
   "nbconvert_exporter": "python",
   "pygments_lexer": "ipython3",
   "version": "3.11.13"
  }
 },
 "nbformat": 4,
 "nbformat_minor": 5
}
