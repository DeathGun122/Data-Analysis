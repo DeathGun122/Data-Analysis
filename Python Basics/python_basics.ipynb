{
 "cells": [
  {
   "cell_type": "raw",
   "id": "4e3cd716-ee01-42be-a613-bec806cff68c",
   "metadata": {},
   "source": [
    "Basics:"
   ]
  },
  {
   "cell_type": "code",
   "execution_count": 3,
   "id": "79dfddeb-0561-4d01-9d5e-c9a942ab4d2a",
   "metadata": {},
   "outputs": [
    {
     "data": {
      "text/plain": [
       "4"
      ]
     },
     "execution_count": 3,
     "metadata": {},
     "output_type": "execute_result"
    }
   ],
   "source": [
    "2+2"
   ]
  },
  {
   "cell_type": "code",
   "execution_count": 4,
   "id": "636c4ff0-8732-4fd1-8206-e1f58b8c9539",
   "metadata": {},
   "outputs": [
    {
     "data": {
      "text/plain": [
       "(4, 9)"
      ]
     },
     "execution_count": 4,
     "metadata": {},
     "output_type": "execute_result"
    }
   ],
   "source": [
    "2 + 2, 3*3"
   ]
  },
  {
   "cell_type": "code",
   "execution_count": 5,
   "id": "484ed1c6-3a74-4301-b169-cb9fa3b31877",
   "metadata": {},
   "outputs": [
    {
     "name": "stdout",
     "output_type": "stream",
     "text": [
      "4 9\n"
     ]
    }
   ],
   "source": [
    "print(2+2, 3*3)"
   ]
  },
  {
   "cell_type": "code",
   "execution_count": 7,
   "id": "8efe6d3d-7646-483f-a51a-b2a4b5716013",
   "metadata": {},
   "outputs": [],
   "source": [
    "# This is a comment"
   ]
  },
  {
   "cell_type": "markdown",
   "id": "c58dc03b-7473-4ea5-8953-2deaf2236196",
   "metadata": {},
   "source": [
    "# Heading"
   ]
  },
  {
   "cell_type": "markdown",
   "id": "0f659968-b1f6-4dd3-bb6c-d9744c538315",
   "metadata": {},
   "source": [
    "this is normal text"
   ]
  },
  {
   "cell_type": "markdown",
   "id": "22dfcf9b-0572-4aba-980c-e0407be561b9",
   "metadata": {},
   "source": [
    "**Bold Text**"
   ]
  },
  {
   "cell_type": "code",
   "execution_count": 9,
   "id": "40885a24-c11e-408c-875f-b8cc4dc2a8e5",
   "metadata": {},
   "outputs": [
    {
     "name": "stdout",
     "output_type": "stream",
     "text": [
      "python_basics.ipynb\n"
     ]
    }
   ],
   "source": [
    "!ls"
   ]
  },
  {
   "cell_type": "code",
   "execution_count": 10,
   "id": "9fd4b764-1ac6-4d57-8322-0db1b8e7fab8",
   "metadata": {},
   "outputs": [
    {
     "name": "stdout",
     "output_type": "stream",
     "text": [
      "642 μs ± 12.9 μs per loop (mean ± std. dev. of 7 runs, 1,000 loops each)\n"
     ]
    }
   ],
   "source": [
    "%timeit [i**2 for i in range(10000)]"
   ]
  },
  {
   "cell_type": "code",
   "execution_count": null,
   "id": "84a37545-3609-4641-afcc-ad752a95bf78",
   "metadata": {},
   "outputs": [],
   "source": [
    "%%timeit"
   ]
  }
 ],
 "metadata": {
  "kernelspec": {
   "display_name": "Python 3 (ipykernel)",
   "language": "python",
   "name": "python3"
  },
  "language_info": {
   "codemirror_mode": {
    "name": "ipython",
    "version": 3
   },
   "file_extension": ".py",
   "mimetype": "text/x-python",
   "name": "python",
   "nbconvert_exporter": "python",
   "pygments_lexer": "ipython3",
   "version": "3.13.2"
  }
 },
 "nbformat": 4,
 "nbformat_minor": 5
}
