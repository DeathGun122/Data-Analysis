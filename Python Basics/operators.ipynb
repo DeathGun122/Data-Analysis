{
 "cells": [
  {
   "cell_type": "code",
   "execution_count": 1,
   "id": "3342c010-7727-4b47-bd64-9e4a520d3fef",
   "metadata": {},
   "outputs": [
    {
     "data": {
      "text/plain": [
       "2"
      ]
     },
     "execution_count": 1,
     "metadata": {},
     "output_type": "execute_result"
    }
   ],
   "source": [
    "4-2"
   ]
  },
  {
   "cell_type": "code",
   "execution_count": 2,
   "id": "77419885-db52-4463-ae05-12f001080d23",
   "metadata": {},
   "outputs": [
    {
     "data": {
      "text/plain": [
       "2.5"
      ]
     },
     "execution_count": 2,
     "metadata": {},
     "output_type": "execute_result"
    }
   ],
   "source": [
    "5/2"
   ]
  },
  {
   "cell_type": "code",
   "execution_count": 3,
   "id": "3c54a138-f365-4f09-a46a-d6916ee36aae",
   "metadata": {},
   "outputs": [
    {
     "data": {
      "text/plain": [
       "1"
      ]
     },
     "execution_count": 3,
     "metadata": {},
     "output_type": "execute_result"
    }
   ],
   "source": [
    "5 % 2"
   ]
  },
  {
   "cell_type": "code",
   "execution_count": 4,
   "id": "26a441e2-df85-4e6c-9eee-7ca29947dfd1",
   "metadata": {},
   "outputs": [
    {
     "data": {
      "text/plain": [
       "2"
      ]
     },
     "execution_count": 4,
     "metadata": {},
     "output_type": "execute_result"
    }
   ],
   "source": [
    "5 // 2       #floor division"
   ]
  },
  {
   "cell_type": "code",
   "execution_count": 8,
   "id": "a5706c2f-4a85-4df1-84ea-29327135c785",
   "metadata": {},
   "outputs": [],
   "source": [
    "min_salary = 20_000        # _ is ignored by interpreter\n",
    "max_salary = 80_000"
   ]
  },
  {
   "cell_type": "code",
   "execution_count": 9,
   "id": "1b6a71d8-6e43-4c79-9c39-32e035d63544",
   "metadata": {},
   "outputs": [],
   "source": [
    "avg_salary = (min_salary + max_salary) / 2"
   ]
  },
  {
   "cell_type": "code",
   "execution_count": 10,
   "id": "960ea230-c728-4cc1-97d7-0d7f0af1b4f8",
   "metadata": {},
   "outputs": [
    {
     "data": {
      "text/plain": [
       "50000.0"
      ]
     },
     "execution_count": 10,
     "metadata": {},
     "output_type": "execute_result"
    }
   ],
   "source": [
    "avg_salary"
   ]
  },
  {
   "cell_type": "code",
   "execution_count": 11,
   "id": "865dd617-9983-4767-8610-41f0e5826a13",
   "metadata": {},
   "outputs": [],
   "source": [
    "x = 1\n",
    "y = 2"
   ]
  },
  {
   "cell_type": "code",
   "execution_count": 12,
   "id": "2625de19-0437-462a-9ada-94a50c9a2835",
   "metadata": {},
   "outputs": [],
   "source": [
    "temp = x\n",
    "x = y\n",
    "y = temp"
   ]
  },
  {
   "cell_type": "code",
   "execution_count": 13,
   "id": "a82a42e6-946a-4562-a2bd-f1153a3111b6",
   "metadata": {},
   "outputs": [
    {
     "name": "stdout",
     "output_type": "stream",
     "text": [
      "2 1\n"
     ]
    }
   ],
   "source": [
    "print(x, y)"
   ]
  },
  {
   "cell_type": "code",
   "execution_count": 14,
   "id": "2e9ce219-adc5-430f-862f-6caef3d4dc43",
   "metadata": {},
   "outputs": [],
   "source": [
    "x, y = y, x"
   ]
  },
  {
   "cell_type": "code",
   "execution_count": 15,
   "id": "8099eb0e-f1ac-4be0-98ef-31400a2858c2",
   "metadata": {},
   "outputs": [
    {
     "name": "stdout",
     "output_type": "stream",
     "text": [
      "1 2\n"
     ]
    }
   ],
   "source": [
    "print(x, y)"
   ]
  },
  {
   "cell_type": "code",
   "execution_count": 16,
   "id": "0653f940-5f9e-438f-a417-f7f92f3f3c37",
   "metadata": {},
   "outputs": [],
   "source": [
    "x +=1"
   ]
  },
  {
   "cell_type": "code",
   "execution_count": 17,
   "id": "3e89adfa-498e-4e9f-89a5-7d7603699aab",
   "metadata": {},
   "outputs": [
    {
     "data": {
      "text/plain": [
       "2"
      ]
     },
     "execution_count": 17,
     "metadata": {},
     "output_type": "execute_result"
    }
   ],
   "source": [
    "x"
   ]
  },
  {
   "cell_type": "code",
   "execution_count": 18,
   "id": "28b0e019-3ab8-4b74-bf98-e8d1002277a6",
   "metadata": {},
   "outputs": [],
   "source": [
    "x*=2"
   ]
  },
  {
   "cell_type": "code",
   "execution_count": 19,
   "id": "236eb63a-f0a6-49d1-a878-2661bca1797f",
   "metadata": {},
   "outputs": [
    {
     "data": {
      "text/plain": [
       "4"
      ]
     },
     "execution_count": 19,
     "metadata": {},
     "output_type": "execute_result"
    }
   ],
   "source": [
    "x"
   ]
  },
  {
   "cell_type": "code",
   "execution_count": 20,
   "id": "ce3cfe7c-4718-44ec-a751-3707a43e7f97",
   "metadata": {},
   "outputs": [],
   "source": [
    "salary_kelly = 60_000\n",
    "salary_luke = 40_000"
   ]
  },
  {
   "cell_type": "code",
   "execution_count": 21,
   "id": "35863d35-942a-48f4-88d6-8d385c64045f",
   "metadata": {},
   "outputs": [
    {
     "data": {
      "text/plain": [
       "False"
      ]
     },
     "execution_count": 21,
     "metadata": {},
     "output_type": "execute_result"
    }
   ],
   "source": [
    "salary_kelly == salary_luke"
   ]
  },
  {
   "cell_type": "code",
   "execution_count": 22,
   "id": "9bf3748b-211b-4742-8c3b-b93c3a194c28",
   "metadata": {},
   "outputs": [
    {
     "name": "stdout",
     "output_type": "stream",
     "text": [
      "Kelly earns more.\n"
     ]
    }
   ],
   "source": [
    "if salary_kelly > salary_luke:\n",
    "    print(\"Kelly earns more.\")"
   ]
  },
  {
   "cell_type": "code",
   "execution_count": 1,
   "id": "37a87475-9ae4-4e50-8799-8751b58471ad",
   "metadata": {},
   "outputs": [],
   "source": [
    "# and or not"
   ]
  },
  {
   "cell_type": "code",
   "execution_count": 7,
   "id": "20955356-07c5-4219-8c65-88062a4e433c",
   "metadata": {},
   "outputs": [
    {
     "data": {
      "text/plain": [
       "True"
      ]
     },
     "execution_count": 7,
     "metadata": {},
     "output_type": "execute_result"
    }
   ],
   "source": [
    "job_work_from_home = True\n",
    "job_health_insurance = True\n",
    "job_no_degree = False\n",
    "\n",
    "job_work_from_home and job_health_insurance and not job_no_degree"
   ]
  },
  {
   "cell_type": "code",
   "execution_count": 8,
   "id": "e26b6756-a17f-4276-a22e-7f05bef4e479",
   "metadata": {},
   "outputs": [
    {
     "data": {
      "text/plain": [
       "True"
      ]
     },
     "execution_count": 8,
     "metadata": {},
     "output_type": "execute_result"
    }
   ],
   "source": [
    "job_health_insurance or job_no_degree or job_work_from_home"
   ]
  },
  {
   "cell_type": "code",
   "execution_count": 9,
   "id": "d8912b2c-deba-4d4a-b192-8da2b0497f9a",
   "metadata": {},
   "outputs": [
    {
     "data": {
      "text/plain": [
       "True"
      ]
     },
     "execution_count": 9,
     "metadata": {},
     "output_type": "execute_result"
    }
   ],
   "source": [
    "not job_no_degree"
   ]
  },
  {
   "cell_type": "code",
   "execution_count": 10,
   "id": "2322b302-4e59-43fe-8c2c-fdd631b87b8f",
   "metadata": {},
   "outputs": [
    {
     "data": {
      "text/plain": [
       "False"
      ]
     },
     "execution_count": 10,
     "metadata": {},
     "output_type": "execute_result"
    }
   ],
   "source": [
    "not job_health_insurance"
   ]
  },
  {
   "cell_type": "code",
   "execution_count": 12,
   "id": "6681b95d-64ee-415b-a988-1477cde7540a",
   "metadata": {},
   "outputs": [],
   "source": [
    "# Membership in, not in"
   ]
  },
  {
   "cell_type": "code",
   "execution_count": 13,
   "id": "10ace86f-e027-4dd5-af3d-b1090715335c",
   "metadata": {},
   "outputs": [
    {
     "data": {
      "text/plain": [
       "True"
      ]
     },
     "execution_count": 13,
     "metadata": {},
     "output_type": "execute_result"
    }
   ],
   "source": [
    "\"Data\" in \"Data Analyst\""
   ]
  },
  {
   "cell_type": "code",
   "execution_count": 14,
   "id": "48530ab2-22d7-4669-bff0-de749775be2e",
   "metadata": {},
   "outputs": [],
   "source": [
    "job_skills = [\"python\", 'sql', 'excel']"
   ]
  },
  {
   "cell_type": "code",
   "execution_count": 15,
   "id": "8048c43f-3fc5-40d6-97d6-7aea6f080caa",
   "metadata": {},
   "outputs": [
    {
     "data": {
      "text/plain": [
       "True"
      ]
     },
     "execution_count": 15,
     "metadata": {},
     "output_type": "execute_result"
    }
   ],
   "source": [
    "'python' in job_skills"
   ]
  },
  {
   "cell_type": "code",
   "execution_count": 16,
   "id": "ce1fc705-c6b6-40c5-9d99-f5269e06fe96",
   "metadata": {},
   "outputs": [
    {
     "data": {
      "text/plain": [
       "False"
      ]
     },
     "execution_count": 16,
     "metadata": {},
     "output_type": "execute_result"
    }
   ],
   "source": [
    "'excel' not in job_skills"
   ]
  },
  {
   "cell_type": "code",
   "execution_count": 17,
   "id": "d5ec7d0a-b5fc-4aa9-92c1-78b0d2e58644",
   "metadata": {},
   "outputs": [],
   "source": [
    "# Identity is,  is not"
   ]
  },
  {
   "cell_type": "code",
   "execution_count": 18,
   "id": "dbc0721e-6122-423d-98a7-ca14f56f7554",
   "metadata": {},
   "outputs": [],
   "source": [
    "salary1 = 10000\n",
    "salary2 = 10000"
   ]
  },
  {
   "cell_type": "code",
   "execution_count": 19,
   "id": "668daa73-a263-41d7-9807-54153941dd3d",
   "metadata": {},
   "outputs": [
    {
     "data": {
      "text/plain": [
       "False"
      ]
     },
     "execution_count": 19,
     "metadata": {},
     "output_type": "execute_result"
    }
   ],
   "source": [
    "salary1 is salary2"
   ]
  },
  {
   "cell_type": "code",
   "execution_count": 20,
   "id": "2c8f4ffc-651f-4769-8195-75b9737ed4c1",
   "metadata": {},
   "outputs": [
    {
     "data": {
      "text/plain": [
       "(127841449220464, 127841449220528)"
      ]
     },
     "execution_count": 20,
     "metadata": {},
     "output_type": "execute_result"
    }
   ],
   "source": [
    "id(salary1) , id(salary2)"
   ]
  },
  {
   "cell_type": "code",
   "execution_count": 21,
   "id": "fa4f1043-d7ce-4652-a720-9b463d8eb185",
   "metadata": {},
   "outputs": [],
   "source": [
    "core_skills = ['python', 'sql', 'excel']\n",
    "my_skills = core_skills"
   ]
  },
  {
   "cell_type": "code",
   "execution_count": 22,
   "id": "bf036b8a-b799-4ab6-b9e1-700023b94558",
   "metadata": {},
   "outputs": [
    {
     "data": {
      "text/plain": [
       "True"
      ]
     },
     "execution_count": 22,
     "metadata": {},
     "output_type": "execute_result"
    }
   ],
   "source": [
    "my_skills is core_skills"
   ]
  },
  {
   "cell_type": "code",
   "execution_count": 25,
   "id": "108d2438-0cca-4bb8-b89c-b623a037894a",
   "metadata": {},
   "outputs": [],
   "source": [
    "# Bitwise &, |, ^, ~, <<, >>"
   ]
  },
  {
   "cell_type": "code",
   "execution_count": 24,
   "id": "b7cccbea-8028-4aab-bdd5-b8b65b16cfd2",
   "metadata": {},
   "outputs": [
    {
     "data": {
      "text/plain": [
       "'0b101010'"
      ]
     },
     "execution_count": 24,
     "metadata": {},
     "output_type": "execute_result"
    }
   ],
   "source": [
    "bin(42)"
   ]
  },
  {
   "cell_type": "code",
   "execution_count": null,
   "id": "33e60661-b0cb-4f35-a37b-883fd33f5a67",
   "metadata": {},
   "outputs": [],
   "source": []
  }
 ],
 "metadata": {
  "kernelspec": {
   "display_name": "Python 3 (ipykernel)",
   "language": "python",
   "name": "python3"
  },
  "language_info": {
   "codemirror_mode": {
    "name": "ipython",
    "version": 3
   },
   "file_extension": ".py",
   "mimetype": "text/x-python",
   "name": "python",
   "nbconvert_exporter": "python",
   "pygments_lexer": "ipython3",
   "version": "3.13.2"
  }
 },
 "nbformat": 4,
 "nbformat_minor": 5
}
