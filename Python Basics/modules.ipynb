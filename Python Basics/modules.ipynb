{
 "cells": [
  {
   "cell_type": "code",
   "execution_count": 1,
   "id": "417fdef4-7c7b-4d76-9c86-104c47a6b7ce",
   "metadata": {},
   "outputs": [],
   "source": [
    "import my_module"
   ]
  },
  {
   "cell_type": "code",
   "execution_count": 2,
   "id": "6883086d-4bdc-4772-a14f-5a6b7168ac84",
   "metadata": {},
   "outputs": [
    {
     "data": {
      "text/plain": [
       "['Python', 'SQL', 'Excel']"
      ]
     },
     "execution_count": 2,
     "metadata": {},
     "output_type": "execute_result"
    }
   ],
   "source": [
    "my_module.skill_list"
   ]
  },
  {
   "cell_type": "code",
   "execution_count": 3,
   "id": "3c5169c4-17e8-4891-b632-ea34f6493449",
   "metadata": {},
   "outputs": [
    {
     "data": {
      "text/plain": [
       "'Python is my favorite skill.'"
      ]
     },
     "execution_count": 3,
     "metadata": {},
     "output_type": "execute_result"
    }
   ],
   "source": [
    "my_module.skill('Python')"
   ]
  },
  {
   "cell_type": "code",
   "execution_count": 26,
   "id": "7021b043-f2f7-4f11-9348-66c3eb18d03d",
   "metadata": {},
   "outputs": [
    {
     "data": {
      "text/plain": [
       "132000.0"
      ]
     },
     "execution_count": 26,
     "metadata": {},
     "output_type": "execute_result"
    }
   ],
   "source": [
    "import job_analyses\n",
    "\n",
    "job_analyses.calculate_salary(120000)"
   ]
  },
  {
   "cell_type": "code",
   "execution_count": 27,
   "id": "d159c42c-674f-4b7a-b8d6-d3c66350beb3",
   "metadata": {},
   "outputs": [
    {
     "ename": "NameError",
     "evalue": "name 'cal_bonus' is not defined",
     "output_type": "error",
     "traceback": [
      "\u001b[0;31m---------------------------------------------------------------------------\u001b[0m",
      "\u001b[0;31mNameError\u001b[0m                                 Traceback (most recent call last)",
      "Cell \u001b[0;32mIn[27], line 5\u001b[0m\n\u001b[1;32m      1\u001b[0m \u001b[38;5;28;01mfrom\u001b[39;00m\u001b[38;5;250m \u001b[39m\u001b[38;5;21;01mjob_analyses\u001b[39;00m\u001b[38;5;250m \u001b[39m\u001b[38;5;28;01mimport\u001b[39;00m \u001b[38;5;241m*\u001b[39m\n\u001b[1;32m      3\u001b[0m \u001b[38;5;66;03m#calculate_salary(120000)\u001b[39;00m\n\u001b[0;32m----> 5\u001b[0m cal_bonus(\u001b[38;5;241m120000\u001b[39m, \u001b[38;5;241m100000\u001b[39m)\n",
      "\u001b[0;31mNameError\u001b[0m: name 'cal_bonus' is not defined"
     ]
    }
   ],
   "source": [
    "from job_analyses import *\n",
    "\n",
    "calculate_salary(120000)\n",
    "\n",
    "cal_bonus(120000, 100000)"
   ]
  },
  {
   "cell_type": "code",
   "execution_count": 28,
   "id": "1f1b5158-a3b2-43ea-a817-d206e0d0449c",
   "metadata": {},
   "outputs": [
    {
     "data": {
      "text/plain": [
       "'This is a docstring'"
      ]
     },
     "execution_count": 28,
     "metadata": {},
     "output_type": "execute_result"
    }
   ],
   "source": [
    "\"\"\"This is a docstring\"\"\""
   ]
  },
  {
   "cell_type": "code",
   "execution_count": 29,
   "id": "7309fb18-623f-481e-9dfe-b55a0c8a9933",
   "metadata": {},
   "outputs": [],
   "source": [
    "salary_list = [98000, 89000,75000, 100000, 110000]"
   ]
  },
  {
   "cell_type": "code",
   "execution_count": 30,
   "id": "4c3fc9ed-608e-45c5-b08a-d03cb6ac84a6",
   "metadata": {},
   "outputs": [
    {
     "data": {
      "text/plain": [
       "94400"
      ]
     },
     "execution_count": 30,
     "metadata": {},
     "output_type": "execute_result"
    }
   ],
   "source": [
    "import statistics\n",
    "\n",
    "statistics.mean(salary_list)"
   ]
  },
  {
   "cell_type": "code",
   "execution_count": 32,
   "id": "5be3f382-e51c-49d5-ba42-3721f47d54af",
   "metadata": {},
   "outputs": [
    {
     "data": {
      "text/plain": [
       "98000"
      ]
     },
     "execution_count": 32,
     "metadata": {},
     "output_type": "execute_result"
    }
   ],
   "source": [
    "from statistics import mean, median, mode\n",
    "\n",
    "median(salary_list)"
   ]
  },
  {
   "cell_type": "code",
   "execution_count": 33,
   "id": "ecfc8b83-32e5-47b5-953e-d7c169e03d67",
   "metadata": {},
   "outputs": [
    {
     "data": {
      "text/plain": [
       "98000"
      ]
     },
     "execution_count": 33,
     "metadata": {},
     "output_type": "execute_result"
    }
   ],
   "source": [
    "mode(salary_list)"
   ]
  },
  {
   "cell_type": "code",
   "execution_count": null,
   "id": "a5883c72-b549-4a17-a9b3-8440ba30dce6",
   "metadata": {},
   "outputs": [],
   "source": []
  }
 ],
 "metadata": {
  "kernelspec": {
   "display_name": "Python 3 (ipykernel)",
   "language": "python",
   "name": "python3"
  },
  "language_info": {
   "codemirror_mode": {
    "name": "ipython",
    "version": 3
   },
   "file_extension": ".py",
   "mimetype": "text/x-python",
   "name": "python",
   "nbconvert_exporter": "python",
   "pygments_lexer": "ipython3",
   "version": "3.11.13"
  }
 },
 "nbformat": 4,
 "nbformat_minor": 5
}
