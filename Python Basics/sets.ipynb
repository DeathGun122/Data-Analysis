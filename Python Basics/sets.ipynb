{
 "cells": [
  {
   "cell_type": "code",
   "execution_count": 2,
   "id": "34a23988-2833-4118-b24a-f67b583d6604",
   "metadata": {},
   "outputs": [],
   "source": [
    "# mutable, with = and {}, unique items, unordered"
   ]
  },
  {
   "cell_type": "code",
   "execution_count": 3,
   "id": "9787f10e-ff4a-4359-a5f9-f9283eb3b708",
   "metadata": {},
   "outputs": [],
   "source": [
    "job_skills = {'sql', 'python', 'excel', 'javascript'}"
   ]
  },
  {
   "cell_type": "code",
   "execution_count": 4,
   "id": "9a18021b-da52-4037-8d59-e3ed14e64e29",
   "metadata": {},
   "outputs": [
    {
     "data": {
      "text/plain": [
       "{'excel', 'javascript', 'python', 'sql'}"
      ]
     },
     "execution_count": 4,
     "metadata": {},
     "output_type": "execute_result"
    }
   ],
   "source": [
    "job_skills"
   ]
  },
  {
   "cell_type": "code",
   "execution_count": 5,
   "id": "bfecd4f1-c71d-43b4-ba76-e8f2ad3b908b",
   "metadata": {},
   "outputs": [],
   "source": [
    "# no indexing available"
   ]
  },
  {
   "cell_type": "code",
   "execution_count": 6,
   "id": "1e635ec6-4b18-4274-9139-27036bbc8dc3",
   "metadata": {},
   "outputs": [],
   "source": [
    "job_skills.add('nextjs')"
   ]
  },
  {
   "cell_type": "code",
   "execution_count": 7,
   "id": "1b0c9e5c-e8f8-4814-ad06-0fab7ed25b13",
   "metadata": {},
   "outputs": [
    {
     "data": {
      "text/plain": [
       "{'excel', 'javascript', 'nextjs', 'python', 'sql'}"
      ]
     },
     "execution_count": 7,
     "metadata": {},
     "output_type": "execute_result"
    }
   ],
   "source": [
    "job_skills"
   ]
  },
  {
   "cell_type": "code",
   "execution_count": 8,
   "id": "53351a5b-b578-4616-8771-3dcb3a2961c8",
   "metadata": {},
   "outputs": [
    {
     "data": {
      "text/plain": [
       "'python'"
      ]
     },
     "execution_count": 8,
     "metadata": {},
     "output_type": "execute_result"
    }
   ],
   "source": [
    "job_skills.pop()"
   ]
  },
  {
   "cell_type": "code",
   "execution_count": 9,
   "id": "754bca4b-c318-48f0-8cc8-f8eb19a815a5",
   "metadata": {},
   "outputs": [
    {
     "data": {
      "text/plain": [
       "{'excel', 'javascript', 'nextjs', 'sql'}"
      ]
     },
     "execution_count": 9,
     "metadata": {},
     "output_type": "execute_result"
    }
   ],
   "source": [
    "job_skills"
   ]
  },
  {
   "cell_type": "code",
   "execution_count": 10,
   "id": "58c1f617-5baf-456c-860c-f9d5de85b464",
   "metadata": {},
   "outputs": [
    {
     "data": {
      "text/plain": [
       "{'excel', 'javascript', 'sql'}"
      ]
     },
     "execution_count": 10,
     "metadata": {},
     "output_type": "execute_result"
    }
   ],
   "source": [
    "job_skills.remove('nextjs')\n",
    "job_skills"
   ]
  },
  {
   "cell_type": "code",
   "execution_count": 11,
   "id": "cf87b771-b90c-427e-aed3-022632ab4c58",
   "metadata": {},
   "outputs": [],
   "source": [
    "job_skills = ['sql', 'python', 'excel', 'javascript']\n",
    "job_skill = ['python', 'javascript', 'nextjs', 'posgresql']\n",
    "all_skills = job_skill + job_skills"
   ]
  },
  {
   "cell_type": "code",
   "execution_count": 12,
   "id": "0c662668-e111-4210-baf0-132d6a603262",
   "metadata": {},
   "outputs": [
    {
     "data": {
      "text/plain": [
       "['python',\n",
       " 'javascript',\n",
       " 'nextjs',\n",
       " 'posgresql',\n",
       " 'sql',\n",
       " 'python',\n",
       " 'excel',\n",
       " 'javascript']"
      ]
     },
     "execution_count": 12,
     "metadata": {},
     "output_type": "execute_result"
    }
   ],
   "source": [
    "all_skills"
   ]
  },
  {
   "cell_type": "code",
   "execution_count": 14,
   "id": "ed8a424f-b55d-4769-a1b6-d3d1448928a1",
   "metadata": {},
   "outputs": [
    {
     "data": {
      "text/plain": [
       "['python', 'javascript', 'nextjs', 'excel', 'sql', 'posgresql']"
      ]
     },
     "execution_count": 14,
     "metadata": {},
     "output_type": "execute_result"
    }
   ],
   "source": [
    "list(set(all_skills))"
   ]
  },
  {
   "cell_type": "code",
   "execution_count": null,
   "id": "ed0a8905-22e7-4009-8c42-f3b606024245",
   "metadata": {},
   "outputs": [],
   "source": []
  }
 ],
 "metadata": {
  "kernelspec": {
   "display_name": "Python 3 (ipykernel)",
   "language": "python",
   "name": "python3"
  },
  "language_info": {
   "codemirror_mode": {
    "name": "ipython",
    "version": 3
   },
   "file_extension": ".py",
   "mimetype": "text/x-python",
   "name": "python",
   "nbconvert_exporter": "python",
   "pygments_lexer": "ipython3",
   "version": "3.13.2"
  }
 },
 "nbformat": 4,
 "nbformat_minor": 5
}
