{
 "cells": [
  {
   "cell_type": "code",
   "execution_count": 1,
   "id": "e588e55e-b1aa-4c03-9e2f-8c722de1d000",
   "metadata": {},
   "outputs": [],
   "source": [
    "data_science_job = [\n",
    "    {\n",
    "        \"job_title\": \"Data Scientist\",\n",
    "        \"job_skills\": [\"Python\", \"Machine Learning\", \"SQL\", \"Statistics\"],\n",
    "        \"job_date\": \"2025-06-10\"\n",
    "    },\n",
    "    {\n",
    "        \"job_title\": \"Machine Learning Engineer\",\n",
    "        \"job_skills\": [\"TensorFlow\", \"Python\", \"Deep Learning\", \"Data Preprocessing\"],\n",
    "        \"job_date\": \"2025-06-08\"\n",
    "    },\n",
    "    {\n",
    "        \"job_title\": \"Data Analyst\",\n",
    "        \"job_skills\": [\"Excel\", \"SQL\", \"Tableau\", \"Data Visualization\"],\n",
    "        \"job_date\": \"2025-06-05\"\n",
    "    },\n",
    "    {\n",
    "        \"job_title\": \"AI Researcher\",\n",
    "        \"job_skills\": [\"PyTorch\", \"NLP\", \"Research Writing\", \"Python\"],\n",
    "        \"job_date\": \"2025-06-01\"\n",
    "    },\n",
    "    {\n",
    "        \"job_title\": \"Business Intelligence Analyst\",\n",
    "        \"job_skills\": [\"Power BI\", \"Data Warehousing\", \"SQL\", \"Business Analysis\"],\n",
    "        \"job_date\": \"2025-05-28\"\n",
    "    }\n",
    "]"
   ]
  },
  {
   "cell_type": "code",
   "execution_count": 3,
   "id": "e7e629fe-81cf-4b12-a19a-70b417a4c1c9",
   "metadata": {},
   "outputs": [],
   "source": [
    "data_science_job = [\n",
    "    {\n",
    "        'job_title': 'Data Scientist',\n",
    "        'job_skills': '[\"Python\", \"Machine Learning\", \"Pandas\", \"SQL\"]',\n",
    "        'job_date': '2025-06-01'\n",
    "    },\n",
    "    {\n",
    "        'job_title': 'Machine Learning Engineer',\n",
    "        'job_skills': '[\"TensorFlow\", \"Python\", \"Deep Learning\", \"Git\"]',\n",
    "        'job_date': '2025-05-28'\n",
    "    },\n",
    "    {\n",
    "        'job_title': 'Data Analyst',\n",
    "        'job_skills': '[\"Excel\", \"Power BI\", \"SQL\", \"Statistics\"]',\n",
    "        'job_date': '2025-06-10'\n",
    "    },\n",
    "    {\n",
    "        'job_title': 'AI Researcher',\n",
    "        'job_skills': '[\"PyTorch\", \"NLP\", \"Python\", \"Matplotlib\"]',\n",
    "        'job_date': '2025-06-05'\n",
    "    },\n",
    "    {\n",
    "        'job_title': 'Business Intelligence Developer',\n",
    "        'job_skills': '[\"Tableau\", \"SQL\", \"Data Warehousing\", \"Python\"]',\n",
    "        'job_date': '2025-06-03'\n",
    "    }\n",
    "]\n"
   ]
  },
  {
   "cell_type": "code",
   "execution_count": 13,
   "id": "0f1c733e-8e78-4092-89d2-a7c914a6bd86",
   "metadata": {},
   "outputs": [],
   "source": [
    "from datetime import datetime, date"
   ]
  },
  {
   "cell_type": "code",
   "execution_count": 5,
   "id": "5d090f6a-3815-410d-8fb7-10098f9fb96a",
   "metadata": {},
   "outputs": [
    {
     "data": {
      "text/plain": [
       "datetime.datetime(2025, 6, 11, 23, 21, 53, 417364)"
      ]
     },
     "execution_count": 5,
     "metadata": {},
     "output_type": "execute_result"
    }
   ],
   "source": [
    "datetime.now()"
   ]
  },
  {
   "cell_type": "code",
   "execution_count": 10,
   "id": "58186a3c-0c51-46cb-8176-52884d4f6938",
   "metadata": {},
   "outputs": [],
   "source": [
    "test_date = data_science_job[0]['job_date']"
   ]
  },
  {
   "cell_type": "code",
   "execution_count": 9,
   "id": "1b2afac1-3d14-4d8f-9f1b-704d34c4cdc2",
   "metadata": {},
   "outputs": [],
   "source": [
    "# parsing"
   ]
  },
  {
   "cell_type": "code",
   "execution_count": 12,
   "id": "eb41fea5-0327-45d9-8e5c-6d32b388b32c",
   "metadata": {},
   "outputs": [
    {
     "name": "stdout",
     "output_type": "stream",
     "text": [
      "2025-06-01 00:00:00\n"
     ]
    }
   ],
   "source": [
    "print(datetime.strptime(test_date, '%Y-%m-%d'))"
   ]
  },
  {
   "cell_type": "code",
   "execution_count": 15,
   "id": "437f0ab2-e4e1-4470-bec8-503c83b90dc3",
   "metadata": {},
   "outputs": [],
   "source": [
    "for job in data_science_job:\n",
    "    job['job_date'] = datetime.strptime(job['job_date'], '%Y-%m-%d')"
   ]
  },
  {
   "cell_type": "code",
   "execution_count": 16,
   "id": "b40ddc77-0685-4f7d-b371-a7c034f217ee",
   "metadata": {},
   "outputs": [
    {
     "data": {
      "text/plain": [
       "[{'job_title': 'Data Scientist',\n",
       "  'job_skills': '[\"Python\", \"Machine Learning\", \"Pandas\", \"SQL\"]',\n",
       "  'job_date': datetime.datetime(2025, 6, 1, 0, 0)},\n",
       " {'job_title': 'Machine Learning Engineer',\n",
       "  'job_skills': '[\"TensorFlow\", \"Python\", \"Deep Learning\", \"Git\"]',\n",
       "  'job_date': datetime.datetime(2025, 5, 28, 0, 0)},\n",
       " {'job_title': 'Data Analyst',\n",
       "  'job_skills': '[\"Excel\", \"Power BI\", \"SQL\", \"Statistics\"]',\n",
       "  'job_date': datetime.datetime(2025, 6, 10, 0, 0)},\n",
       " {'job_title': 'AI Researcher',\n",
       "  'job_skills': '[\"PyTorch\", \"NLP\", \"Python\", \"Matplotlib\"]',\n",
       "  'job_date': datetime.datetime(2025, 6, 5, 0, 0)},\n",
       " {'job_title': 'Business Intelligence Developer',\n",
       "  'job_skills': '[\"Tableau\", \"SQL\", \"Data Warehousing\", \"Python\"]',\n",
       "  'job_date': datetime.datetime(2025, 6, 3, 0, 0)}]"
      ]
     },
     "execution_count": 16,
     "metadata": {},
     "output_type": "execute_result"
    }
   ],
   "source": [
    "data_science_job"
   ]
  },
  {
   "cell_type": "code",
   "execution_count": 17,
   "id": "a4dc77e4-7f94-4c75-8e0a-6b5f5da9168c",
   "metadata": {},
   "outputs": [],
   "source": [
    "# cleaning skill lists"
   ]
  },
  {
   "cell_type": "code",
   "execution_count": 18,
   "id": "3821675c-b401-4b5a-8e0f-a04b611ed5ba",
   "metadata": {},
   "outputs": [
    {
     "data": {
      "text/plain": [
       "[{'job_title': 'Data Scientist',\n",
       "  'job_skills': ['Python', 'Machine Learning', 'Pandas', 'SQL'],\n",
       "  'job_date': datetime.datetime(2025, 6, 1, 0, 0)},\n",
       " {'job_title': 'Machine Learning Engineer',\n",
       "  'job_skills': ['TensorFlow', 'Python', 'Deep Learning', 'Git'],\n",
       "  'job_date': datetime.datetime(2025, 5, 28, 0, 0)},\n",
       " {'job_title': 'Data Analyst',\n",
       "  'job_skills': ['Excel', 'Power BI', 'SQL', 'Statistics'],\n",
       "  'job_date': datetime.datetime(2025, 6, 10, 0, 0)},\n",
       " {'job_title': 'AI Researcher',\n",
       "  'job_skills': ['PyTorch', 'NLP', 'Python', 'Matplotlib'],\n",
       "  'job_date': datetime.datetime(2025, 6, 5, 0, 0)},\n",
       " {'job_title': 'Business Intelligence Developer',\n",
       "  'job_skills': ['Tableau', 'SQL', 'Data Warehousing', 'Python'],\n",
       "  'job_date': datetime.datetime(2025, 6, 3, 0, 0)}]"
      ]
     },
     "execution_count": 18,
     "metadata": {},
     "output_type": "execute_result"
    }
   ],
   "source": [
    "import ast\n",
    "\n",
    "for job in data_science_job:\n",
    "    job['job_skills'] = ast.literal_eval(job['job_skills'])\n",
    "\n",
    "data_science_job"
   ]
  },
  {
   "cell_type": "code",
   "execution_count": 19,
   "id": "2185b83a-1975-4b17-a6d7-3059d41c9f94",
   "metadata": {},
   "outputs": [
    {
     "data": {
      "text/plain": [
       "list"
      ]
     },
     "execution_count": 19,
     "metadata": {},
     "output_type": "execute_result"
    }
   ],
   "source": [
    "type(data_science_job[0]['job_skills'])"
   ]
  },
  {
   "cell_type": "code",
   "execution_count": null,
   "id": "9555c181-2e9b-4a45-991a-430a60c9bcdc",
   "metadata": {},
   "outputs": [],
   "source": []
  }
 ],
 "metadata": {
  "kernelspec": {
   "display_name": "Python 3 (ipykernel)",
   "language": "python",
   "name": "python3"
  },
  "language_info": {
   "codemirror_mode": {
    "name": "ipython",
    "version": 3
   },
   "file_extension": ".py",
   "mimetype": "text/x-python",
   "name": "python",
   "nbconvert_exporter": "python",
   "pygments_lexer": "ipython3",
   "version": "3.11.13"
  }
 },
 "nbformat": 4,
 "nbformat_minor": 5
}
