{
 "cells": [
  {
   "cell_type": "code",
   "execution_count": 1,
   "id": "307b0d3c-8660-4d8b-b0b6-480646a0bee1",
   "metadata": {},
   "outputs": [],
   "source": [
    "my_list = [1, 'python', 0.12, [1,2,3]]"
   ]
  },
  {
   "cell_type": "code",
   "execution_count": 2,
   "id": "c66f0d64-f958-4c36-8189-d73a361056a8",
   "metadata": {},
   "outputs": [],
   "source": [
    "job_skills = ['sql', 'python', 'excel']"
   ]
  },
  {
   "cell_type": "code",
   "execution_count": 3,
   "id": "de420134-57db-4193-83b7-d22e204cf38c",
   "metadata": {},
   "outputs": [],
   "source": [
    "job_skills.append('pandas')"
   ]
  },
  {
   "cell_type": "code",
   "execution_count": 4,
   "id": "5f3a3d76-bf6b-4126-b000-bb4ad028edf5",
   "metadata": {},
   "outputs": [
    {
     "data": {
      "text/plain": [
       "['sql', 'python', 'excel', 'pandas']"
      ]
     },
     "execution_count": 4,
     "metadata": {},
     "output_type": "execute_result"
    }
   ],
   "source": [
    "job_skills"
   ]
  },
  {
   "cell_type": "code",
   "execution_count": 5,
   "id": "27872eef-c68b-4e0a-a98b-6fed129e46e8",
   "metadata": {},
   "outputs": [],
   "source": [
    "job_skills.remove('excel')"
   ]
  },
  {
   "cell_type": "code",
   "execution_count": 6,
   "id": "30db2fbb-baee-4cf6-9306-bab346cb05cf",
   "metadata": {},
   "outputs": [
    {
     "data": {
      "text/plain": [
       "['sql', 'python', 'pandas']"
      ]
     },
     "execution_count": 6,
     "metadata": {},
     "output_type": "execute_result"
    }
   ],
   "source": [
    "job_skills"
   ]
  },
  {
   "cell_type": "code",
   "execution_count": 7,
   "id": "ed6f3337-956e-4f36-af2d-3aaea7eeedf0",
   "metadata": {},
   "outputs": [
    {
     "data": {
      "text/plain": [
       "3"
      ]
     },
     "execution_count": 7,
     "metadata": {},
     "output_type": "execute_result"
    }
   ],
   "source": [
    "len(job_skills)"
   ]
  },
  {
   "cell_type": "code",
   "execution_count": 8,
   "id": "f5cb4b7c-a5f0-4818-961a-5d48218a23c6",
   "metadata": {},
   "outputs": [],
   "source": [
    "#index"
   ]
  },
  {
   "cell_type": "code",
   "execution_count": 9,
   "id": "e9e8e0c7-7479-4e6b-848e-0b509ed81e46",
   "metadata": {},
   "outputs": [
    {
     "data": {
      "text/plain": [
       "'python'"
      ]
     },
     "execution_count": 9,
     "metadata": {},
     "output_type": "execute_result"
    }
   ],
   "source": [
    "job_skills[1]"
   ]
  },
  {
   "cell_type": "code",
   "execution_count": 10,
   "id": "e2bdef5f-8415-4167-9c36-157a80c2cd2c",
   "metadata": {},
   "outputs": [],
   "source": [
    "job_skills.insert(2, 'excel')"
   ]
  },
  {
   "cell_type": "code",
   "execution_count": 11,
   "id": "6c528fe5-5519-4efe-ad75-95603807d5bf",
   "metadata": {},
   "outputs": [
    {
     "data": {
      "text/plain": [
       "['sql', 'python', 'excel', 'pandas']"
      ]
     },
     "execution_count": 11,
     "metadata": {},
     "output_type": "execute_result"
    }
   ],
   "source": [
    "job_skills"
   ]
  },
  {
   "cell_type": "code",
   "execution_count": 12,
   "id": "536fe6fa-e68f-4203-80ef-59401d4a866c",
   "metadata": {},
   "outputs": [
    {
     "data": {
      "text/plain": [
       "'pandas'"
      ]
     },
     "execution_count": 12,
     "metadata": {},
     "output_type": "execute_result"
    }
   ],
   "source": [
    "job_skills.pop()"
   ]
  },
  {
   "cell_type": "code",
   "execution_count": 13,
   "id": "ce883a22-d954-4890-93e2-aacc2652a029",
   "metadata": {},
   "outputs": [
    {
     "data": {
      "text/plain": [
       "['sql', 'python', 'excel']"
      ]
     },
     "execution_count": 13,
     "metadata": {},
     "output_type": "execute_result"
    }
   ],
   "source": [
    "job_skills"
   ]
  },
  {
   "cell_type": "code",
   "execution_count": 14,
   "id": "a5e55339-0bc5-4146-83ee-ccd0caa39adb",
   "metadata": {},
   "outputs": [
    {
     "data": {
      "text/plain": [
       "'python'"
      ]
     },
     "execution_count": 14,
     "metadata": {},
     "output_type": "execute_result"
    }
   ],
   "source": [
    "job_skills.pop(1)"
   ]
  },
  {
   "cell_type": "code",
   "execution_count": 15,
   "id": "385bf255-7dbd-4939-8e38-eaea6a308984",
   "metadata": {},
   "outputs": [
    {
     "data": {
      "text/plain": [
       "['sql', 'excel']"
      ]
     },
     "execution_count": 15,
     "metadata": {},
     "output_type": "execute_result"
    }
   ],
   "source": [
    "job_skills"
   ]
  },
  {
   "cell_type": "code",
   "execution_count": 16,
   "id": "add02621-6b5b-4803-9c06-30de4256d2c4",
   "metadata": {},
   "outputs": [],
   "source": [
    "# slicing"
   ]
  },
  {
   "cell_type": "code",
   "execution_count": 17,
   "id": "1238addd-30f8-4b2f-8dce-1ac18f31acff",
   "metadata": {},
   "outputs": [],
   "source": [
    "job_skills = ['sql', 'python', 'excel', 'pandas']"
   ]
  },
  {
   "cell_type": "code",
   "execution_count": 18,
   "id": "ddc6523b-2db9-48c6-ac5a-6a860b55ff5d",
   "metadata": {},
   "outputs": [
    {
     "data": {
      "text/plain": [
       "['sql', 'python', 'excel']"
      ]
     },
     "execution_count": 18,
     "metadata": {},
     "output_type": "execute_result"
    }
   ],
   "source": [
    "job_skills[0:3]"
   ]
  },
  {
   "cell_type": "code",
   "execution_count": 19,
   "id": "5ad6b9e2-a769-465e-8ef6-8a27b2f5a245",
   "metadata": {},
   "outputs": [
    {
     "data": {
      "text/plain": [
       "['sql', 'python']"
      ]
     },
     "execution_count": 19,
     "metadata": {},
     "output_type": "execute_result"
    }
   ],
   "source": [
    "job_skills[0:2]"
   ]
  },
  {
   "cell_type": "code",
   "execution_count": 20,
   "id": "89877897-2bbd-4579-830e-93ab3af1c04a",
   "metadata": {},
   "outputs": [
    {
     "data": {
      "text/plain": [
       "['sql', 'python', 'excel', 'pandas']"
      ]
     },
     "execution_count": 20,
     "metadata": {},
     "output_type": "execute_result"
    }
   ],
   "source": [
    "job_skills[:]"
   ]
  },
  {
   "cell_type": "code",
   "execution_count": 21,
   "id": "3f185970-273a-42a1-b69a-38a072fde10e",
   "metadata": {},
   "outputs": [
    {
     "data": {
      "text/plain": [
       "['sql', 'python', 'excel', 'pandas']"
      ]
     },
     "execution_count": 21,
     "metadata": {},
     "output_type": "execute_result"
    }
   ],
   "source": [
    "job_skills[0:]"
   ]
  },
  {
   "cell_type": "code",
   "execution_count": 22,
   "id": "00596827-8a75-4525-b8bf-139b6d1debb8",
   "metadata": {},
   "outputs": [
    {
     "data": {
      "text/plain": [
       "['sql', 'python', 'excel', 'pandas']"
      ]
     },
     "execution_count": 22,
     "metadata": {},
     "output_type": "execute_result"
    }
   ],
   "source": [
    "job_skills[::1]"
   ]
  },
  {
   "cell_type": "code",
   "execution_count": 23,
   "id": "9a459250-5713-4e85-8e85-b9bfa005d589",
   "metadata": {},
   "outputs": [
    {
     "data": {
      "text/plain": [
       "['sql', 'excel']"
      ]
     },
     "execution_count": 23,
     "metadata": {},
     "output_type": "execute_result"
    }
   ],
   "source": [
    "job_skills[::2]"
   ]
  },
  {
   "cell_type": "code",
   "execution_count": 24,
   "id": "681cbef4-258f-4f0f-98fb-bcaa7feb4d55",
   "metadata": {},
   "outputs": [
    {
     "data": {
      "text/plain": [
       "['sql',\n",
       " 'python',\n",
       " 'nextjs',\n",
       " 'JS',\n",
       " 'TS',\n",
       " 'Tailwind CSS',\n",
       " 'Postgres',\n",
       " 'Figma',\n",
       " 'React']"
      ]
     },
     "execution_count": 24,
     "metadata": {},
     "output_type": "execute_result"
    }
   ],
   "source": [
    "all_skills = ['sql', 'python', 'nextjs', 'JS', 'TS', 'Tailwind CSS', 'Postgres', 'Figma', 'React']\n",
    "all_skills"
   ]
  },
  {
   "cell_type": "code",
   "execution_count": 25,
   "id": "fd5477ba-d585-4dd2-9dac-429b918cef09",
   "metadata": {},
   "outputs": [
    {
     "data": {
      "text/plain": [
       "['sql', 'nextjs', 'TS', 'Postgres', 'React']"
      ]
     },
     "execution_count": 25,
     "metadata": {},
     "output_type": "execute_result"
    }
   ],
   "source": [
    "all_skills[::2]"
   ]
  },
  {
   "cell_type": "code",
   "execution_count": 26,
   "id": "d53e378f-8316-48f1-9314-abb8bceb0a36",
   "metadata": {},
   "outputs": [
    {
     "data": {
      "text/plain": [
       "'React'"
      ]
     },
     "execution_count": 26,
     "metadata": {},
     "output_type": "execute_result"
    }
   ],
   "source": [
    "all_skills[len(all_skills)-1]"
   ]
  },
  {
   "cell_type": "code",
   "execution_count": 27,
   "id": "d31676a4-6872-4652-a584-320bfd4376d8",
   "metadata": {},
   "outputs": [
    {
     "data": {
      "text/plain": [
       "['React']"
      ]
     },
     "execution_count": 27,
     "metadata": {},
     "output_type": "execute_result"
    }
   ],
   "source": [
    "all_skills[-1:]"
   ]
  },
  {
   "cell_type": "code",
   "execution_count": 28,
   "id": "81b52bb0-5e74-4b8d-9acc-85abb8256d76",
   "metadata": {},
   "outputs": [
    {
     "data": {
      "text/plain": [
       "['Figma', 'React']"
      ]
     },
     "execution_count": 28,
     "metadata": {},
     "output_type": "execute_result"
    }
   ],
   "source": [
    "all_skills[-2:]"
   ]
  },
  {
   "cell_type": "code",
   "execution_count": 29,
   "id": "06a8f85f-1061-4357-a909-2906ec108895",
   "metadata": {},
   "outputs": [],
   "source": [
    "# Unpacking"
   ]
  },
  {
   "cell_type": "code",
   "execution_count": 30,
   "id": "bc753ca1-1da7-45bb-9832-7fadfe20ad12",
   "metadata": {},
   "outputs": [],
   "source": [
    "skills = ['sql', 'python', 'excel']"
   ]
  },
  {
   "cell_type": "code",
   "execution_count": 31,
   "id": "08ac4df4-0f6c-486a-9b15-09ef158dbedc",
   "metadata": {},
   "outputs": [],
   "source": [
    "skill1 , skill2, skill3 = skills"
   ]
  },
  {
   "cell_type": "code",
   "execution_count": 32,
   "id": "d1a07969-f2f6-4d93-9b99-c9135327ec3b",
   "metadata": {},
   "outputs": [
    {
     "name": "stdout",
     "output_type": "stream",
     "text": [
      "sql python excel\n"
     ]
    }
   ],
   "source": [
    "print(skill1, skill2, skill3)"
   ]
  },
  {
   "cell_type": "code",
   "execution_count": 33,
   "id": "09c32cd2-6248-4cab-967c-34fca172ae3a",
   "metadata": {},
   "outputs": [],
   "source": [
    "skill_needed, *skill_not_needed = skills"
   ]
  },
  {
   "cell_type": "code",
   "execution_count": 34,
   "id": "60e79819-0f37-467c-8786-228634ed4626",
   "metadata": {},
   "outputs": [
    {
     "name": "stdout",
     "output_type": "stream",
     "text": [
      "sql ['python', 'excel']\n"
     ]
    }
   ],
   "source": [
    "print(skill_needed, skill_not_needed)"
   ]
  },
  {
   "cell_type": "code",
   "execution_count": 35,
   "id": "979e2d52-f6d8-4d6c-8de6-d60c23521363",
   "metadata": {},
   "outputs": [],
   "source": [
    "# Collection, Duplicated allowed, mutable"
   ]
  },
  {
   "cell_type": "code",
   "execution_count": null,
   "id": "ecd3c38f-6558-4947-af8e-75c3814848b7",
   "metadata": {},
   "outputs": [],
   "source": []
  }
 ],
 "metadata": {
  "kernelspec": {
   "display_name": "Python 3 (ipykernel)",
   "language": "python",
   "name": "python3"
  },
  "language_info": {
   "codemirror_mode": {
    "name": "ipython",
    "version": 3
   },
   "file_extension": ".py",
   "mimetype": "text/x-python",
   "name": "python",
   "nbconvert_exporter": "python",
   "pygments_lexer": "ipython3",
   "version": "3.13.2"
  }
 },
 "nbformat": 4,
 "nbformat_minor": 5
}
