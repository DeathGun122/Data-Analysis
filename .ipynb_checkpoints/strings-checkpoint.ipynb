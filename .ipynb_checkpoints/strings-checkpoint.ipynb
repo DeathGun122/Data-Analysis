{
 "cells": [
  {
   "cell_type": "code",
   "execution_count": 1,
   "id": "595a8cc5-7c5a-4f93-92ae-7eee553565f7",
   "metadata": {},
   "outputs": [],
   "source": [
    "skill = \"python\""
   ]
  },
  {
   "cell_type": "code",
   "execution_count": 2,
   "id": "96b06482-549b-4af9-806b-f4f7336e7674",
   "metadata": {},
   "outputs": [
    {
     "data": {
      "text/plain": [
       "'PYTHON'"
      ]
     },
     "execution_count": 2,
     "metadata": {},
     "output_type": "execute_result"
    }
   ],
   "source": [
    "skill.upper()"
   ]
  },
  {
   "cell_type": "code",
   "execution_count": 3,
   "id": "788b1f02-253f-460a-b1d3-d9d7c0caa4bc",
   "metadata": {},
   "outputs": [
    {
     "data": {
      "text/plain": [
       "'python'"
      ]
     },
     "execution_count": 3,
     "metadata": {},
     "output_type": "execute_result"
    }
   ],
   "source": [
    "skill.lower()"
   ]
  },
  {
   "cell_type": "code",
   "execution_count": 5,
   "id": "b3b7728e-f2ae-4387-85b1-df08cdd0b7ba",
   "metadata": {},
   "outputs": [
    {
     "data": {
      "text/plain": [
       "'Jython'"
      ]
     },
     "execution_count": 5,
     "metadata": {},
     "output_type": "execute_result"
    }
   ],
   "source": [
    "skill.capitalize().replace(\"P\",\"J\")"
   ]
  },
  {
   "cell_type": "code",
   "execution_count": 15,
   "id": "1f0aa90a-cff0-4703-9116-088b55eeeaf4",
   "metadata": {},
   "outputs": [],
   "source": [
    "job_title = 'Data Analyst'"
   ]
  },
  {
   "cell_type": "code",
   "execution_count": 18,
   "id": "420d463b-5f8a-4055-8da2-6bcd261eedae",
   "metadata": {},
   "outputs": [],
   "source": [
    "job_title = job_title.replace('a','o',2)"
   ]
  },
  {
   "cell_type": "code",
   "execution_count": 20,
   "id": "c87ed83c-84ba-4448-a7de-36fdfc8145e2",
   "metadata": {},
   "outputs": [
    {
     "data": {
      "text/plain": [
       "['Doto', 'Analyst']"
      ]
     },
     "execution_count": 20,
     "metadata": {},
     "output_type": "execute_result"
    }
   ],
   "source": [
    "job_title.split(sep=\" \", maxsplit=1)"
   ]
  },
  {
   "cell_type": "code",
   "execution_count": 22,
   "id": "784220b5-8f9a-42a5-91c2-88a83ac86e33",
   "metadata": {},
   "outputs": [
    {
     "data": {
      "text/plain": [
       "'Data Analyst'"
      ]
     },
     "execution_count": 22,
     "metadata": {},
     "output_type": "execute_result"
    }
   ],
   "source": [
    "str.__add__('Data ', 'Analyst')"
   ]
  },
  {
   "cell_type": "code",
   "execution_count": 23,
   "id": "b834991d-edad-4674-bdd6-e882845feb93",
   "metadata": {},
   "outputs": [
    {
     "data": {
      "text/plain": [
       "'Data Analyst'"
      ]
     },
     "execution_count": 23,
     "metadata": {},
     "output_type": "execute_result"
    }
   ],
   "source": [
    "\"Data \" + \"Analyst\""
   ]
  },
  {
   "cell_type": "code",
   "execution_count": 25,
   "id": "c1ce7988-1e60-4103-91a2-97acbc589660",
   "metadata": {},
   "outputs": [
    {
     "data": {
      "text/plain": [
       "'Data Analyst Data Analyst Data Analyst Data Analyst Data Analyst Data Analyst Data Analyst Data Analyst Data Analyst Data Analyst '"
      ]
     },
     "execution_count": 25,
     "metadata": {},
     "output_type": "execute_result"
    }
   ],
   "source": [
    "\"Data Analyst \" * 10"
   ]
  },
  {
   "cell_type": "code",
   "execution_count": 26,
   "id": "731ea4dc-63bc-4e08-af34-61a11577d86e",
   "metadata": {},
   "outputs": [
    {
     "data": {
      "text/plain": [
       "12"
      ]
     },
     "execution_count": 26,
     "metadata": {},
     "output_type": "execute_result"
    }
   ],
   "source": [
    "'Data Analyst'.__len__()"
   ]
  },
  {
   "cell_type": "code",
   "execution_count": 27,
   "id": "de77fce4-b2a9-4b82-b296-38ff0202e43a",
   "metadata": {},
   "outputs": [
    {
     "data": {
      "text/plain": [
       "12"
      ]
     },
     "execution_count": 27,
     "metadata": {},
     "output_type": "execute_result"
    }
   ],
   "source": [
    "len('Data Analyst')"
   ]
  },
  {
   "cell_type": "code",
   "execution_count": 28,
   "id": "9718adfc-7319-4171-a5b6-b5537763b2af",
   "metadata": {},
   "outputs": [],
   "source": [
    "# Concatenation"
   ]
  },
  {
   "cell_type": "code",
   "execution_count": 29,
   "id": "68d65ee0-e1dd-4951-9759-cf71af8ef466",
   "metadata": {},
   "outputs": [],
   "source": [
    "role = 'Data Analyst'\n",
    "skill = 'Python'"
   ]
  },
  {
   "cell_type": "code",
   "execution_count": 30,
   "id": "660ea5bf-2665-4720-abda-25686b058a5e",
   "metadata": {},
   "outputs": [
    {
     "data": {
      "text/plain": [
       "'Role : Data Analyst'"
      ]
     },
     "execution_count": 30,
     "metadata": {},
     "output_type": "execute_result"
    }
   ],
   "source": [
    "'Role : ' + role"
   ]
  },
  {
   "cell_type": "code",
   "execution_count": 31,
   "id": "b24b2518-4df2-4e6a-a3e8-918ea1e2ce62",
   "metadata": {},
   "outputs": [
    {
     "data": {
      "text/plain": [
       "'Role: Data Analyst'"
      ]
     },
     "execution_count": 31,
     "metadata": {},
     "output_type": "execute_result"
    }
   ],
   "source": [
    "'Role: {}'.format(role)"
   ]
  },
  {
   "cell_type": "code",
   "execution_count": 33,
   "id": "337d76d6-3ad8-44fa-a695-cb098e24c9f4",
   "metadata": {},
   "outputs": [
    {
     "data": {
      "text/plain": [
       "'Role : Data Analyst, Skill : Python'"
      ]
     },
     "execution_count": 33,
     "metadata": {},
     "output_type": "execute_result"
    }
   ],
   "source": [
    "'Role : {role}, Skill : {skill}'.format(role=role, skill=skill)"
   ]
  },
  {
   "cell_type": "code",
   "execution_count": 34,
   "id": "4faa9454-f9d7-4ea1-8f16-c6c7b834f1c2",
   "metadata": {},
   "outputs": [],
   "source": [
    "#f-string"
   ]
  },
  {
   "cell_type": "code",
   "execution_count": 35,
   "id": "18c6446a-3a11-40f3-9bff-555dcd8848d4",
   "metadata": {},
   "outputs": [
    {
     "data": {
      "text/plain": [
       "'Role : Data Analyst; Skill Required : Python'"
      ]
     },
     "execution_count": 35,
     "metadata": {},
     "output_type": "execute_result"
    }
   ],
   "source": [
    "f'Role : {role}; Skill Required : {skill}'"
   ]
  },
  {
   "cell_type": "code",
   "execution_count": 36,
   "id": "fbb9102c-c124-4987-b0d8-30d33496447d",
   "metadata": {},
   "outputs": [],
   "source": [
    "# printf style"
   ]
  },
  {
   "cell_type": "code",
   "execution_count": 38,
   "id": "5a524e1a-98b6-4e8c-9e77-8f8b90b17a63",
   "metadata": {},
   "outputs": [
    {
     "data": {
      "text/plain": [
       "'Role : Data Analyst; Skill Required : Python'"
      ]
     },
     "execution_count": 38,
     "metadata": {},
     "output_type": "execute_result"
    }
   ],
   "source": [
    "\"Role : %s; Skill Required : %s\" % (role, skill)"
   ]
  },
  {
   "cell_type": "code",
   "execution_count": 39,
   "id": "c507c1dc-df06-4d88-ae54-1d3c851e633b",
   "metadata": {},
   "outputs": [],
   "source": [
    "#join"
   ]
  },
  {
   "cell_type": "code",
   "execution_count": 40,
   "id": "782fadcf-1476-486c-9c6c-fd9c60cb1de3",
   "metadata": {},
   "outputs": [],
   "source": [
    "years_experience = '0123456789'"
   ]
  },
  {
   "cell_type": "code",
   "execution_count": 41,
   "id": "33e73ec6-245e-455c-8303-8ee76c016b6a",
   "metadata": {},
   "outputs": [
    {
     "data": {
      "text/plain": [
       "'0, 1, 2, 3, 4, 5, 6, 7, 8, 9'"
      ]
     },
     "execution_count": 41,
     "metadata": {},
     "output_type": "execute_result"
    }
   ],
   "source": [
    "', '.join(years_experience)"
   ]
  },
  {
   "cell_type": "code",
   "execution_count": 42,
   "id": "2b976682-545a-4e86-a953-4dc261f40e59",
   "metadata": {},
   "outputs": [],
   "source": [
    "skills = ['Python', 'SQL' , 'JavaScript']"
   ]
  },
  {
   "cell_type": "code",
   "execution_count": 43,
   "id": "f8c1356f-45e3-4e44-8a9a-7d942e892c23",
   "metadata": {},
   "outputs": [
    {
     "data": {
      "text/plain": [
       "'Python, SQL, JavaScript'"
      ]
     },
     "execution_count": 43,
     "metadata": {},
     "output_type": "execute_result"
    }
   ],
   "source": [
    "', '.join(skills)"
   ]
  },
  {
   "cell_type": "code",
   "execution_count": null,
   "id": "ed231dd6-3e49-4657-af2f-884dc89d6a69",
   "metadata": {},
   "outputs": [],
   "source": []
  }
 ],
 "metadata": {
  "kernelspec": {
   "display_name": "Python 3 (ipykernel)",
   "language": "python",
   "name": "python3"
  },
  "language_info": {
   "codemirror_mode": {
    "name": "ipython",
    "version": 3
   },
   "file_extension": ".py",
   "mimetype": "text/x-python",
   "name": "python",
   "nbconvert_exporter": "python",
   "pygments_lexer": "ipython3",
   "version": "3.13.2"
  }
 },
 "nbformat": 4,
 "nbformat_minor": 5
}
