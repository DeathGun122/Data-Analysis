{
 "cells": [
  {
   "cell_type": "code",
   "execution_count": 1,
   "id": "585572c8-761a-472a-a8e0-c88dd45ff3a1",
   "metadata": {},
   "outputs": [],
   "source": [
    "import random"
   ]
  },
  {
   "cell_type": "code",
   "execution_count": 2,
   "id": "aefc6f76-51ec-45a7-a4d3-80a306647aa2",
   "metadata": {},
   "outputs": [
    {
     "data": {
      "text/plain": [
       "91797"
      ]
     },
     "execution_count": 2,
     "metadata": {},
     "output_type": "execute_result"
    }
   ],
   "source": [
    "random.randint(50000, 100000)"
   ]
  },
  {
   "cell_type": "code",
   "execution_count": 3,
   "id": "799471d8-f7c3-4364-b5a2-6ff0628866a7",
   "metadata": {},
   "outputs": [],
   "source": [
    "salary_list = [random.randint(50000, 100000) for x in range(100_000)]"
   ]
  },
  {
   "cell_type": "code",
   "execution_count": 4,
   "id": "f3a031eb-f47e-45ed-b5c8-2f9d9be0aa20",
   "metadata": {},
   "outputs": [],
   "source": [
    "import statistics"
   ]
  },
  {
   "cell_type": "code",
   "execution_count": 5,
   "id": "2900549a-0520-40c1-b319-cdd7a900bf16",
   "metadata": {},
   "outputs": [
    {
     "name": "stdout",
     "output_type": "stream",
     "text": [
      "22.4 ms ± 639 μs per loop (mean ± std. dev. of 7 runs, 10 loops each)\n"
     ]
    }
   ],
   "source": [
    "%%timeit\n",
    "statistics.mean(salary_list)"
   ]
  },
  {
   "cell_type": "code",
   "execution_count": 6,
   "id": "a10a3011-7700-4ffb-85a1-bdd5230335f4",
   "metadata": {},
   "outputs": [],
   "source": [
    "import numpy as np"
   ]
  },
  {
   "cell_type": "code",
   "execution_count": 7,
   "id": "f7e95de1-a22b-424e-a57c-8c2592177261",
   "metadata": {},
   "outputs": [
    {
     "name": "stdout",
     "output_type": "stream",
     "text": [
      "7.44 ms ± 34.2 μs per loop (mean ± std. dev. of 7 runs, 100 loops each)\n"
     ]
    }
   ],
   "source": [
    "%%timeit\n",
    "np.mean(salary_list)"
   ]
  },
  {
   "cell_type": "code",
   "execution_count": 10,
   "id": "7b20e087-fc1a-455f-b69c-b2f14a4483b9",
   "metadata": {},
   "outputs": [],
   "source": [
    "array = np.array([1, 2, 3, 4])"
   ]
  },
  {
   "cell_type": "code",
   "execution_count": 11,
   "id": "cf9effa4-5a71-4594-b05a-e7f0c3b1a013",
   "metadata": {},
   "outputs": [
    {
     "data": {
      "text/plain": [
       "np.float64(2.5)"
      ]
     },
     "execution_count": 11,
     "metadata": {},
     "output_type": "execute_result"
    }
   ],
   "source": [
    "array.mean()"
   ]
  },
  {
   "cell_type": "code",
   "execution_count": 17,
   "id": "46a1b208-c127-40df-aee0-7d985e83df68",
   "metadata": {},
   "outputs": [],
   "source": [
    "job_titles = np.array([\"Data Analyst\", \"Machine Learning Engineer\", \"Data Scientist\", \"AI Researcher\", \"Intern\"])\n",
    "\n",
    "base_salaries = np.array([600000, 1000000, 900000, 1200000, np.nan])\n",
    "\n",
    "bonus_rates = np.array([0.1, 0.15, 0.12, 0.2, np.nan]) "
   ]
  },
  {
   "cell_type": "code",
   "execution_count": 19,
   "id": "b4958b47-957f-4393-87b2-72749c50620d",
   "metadata": {},
   "outputs": [
    {
     "data": {
      "text/plain": [
       "array([ 660000., 1150000., 1008000., 1440000.,      nan])"
      ]
     },
     "execution_count": 19,
     "metadata": {},
     "output_type": "execute_result"
    }
   ],
   "source": [
    "total_salaries = base_salaries * (1 + bonus_rates)\n",
    "total_salaries"
   ]
  },
  {
   "cell_type": "code",
   "execution_count": 20,
   "id": "c903f2a9-0843-4e0e-a4e2-e7fc2cdea332",
   "metadata": {},
   "outputs": [
    {
     "data": {
      "text/plain": [
       "np.float64(1064500.0)"
      ]
     },
     "execution_count": 20,
     "metadata": {},
     "output_type": "execute_result"
    }
   ],
   "source": [
    "np.nanmean(total_salaries)"
   ]
  },
  {
   "cell_type": "code",
   "execution_count": null,
   "id": "5bc5f22d-a2fc-4da4-8531-0bdfc577fdd1",
   "metadata": {},
   "outputs": [],
   "source": []
  }
 ],
 "metadata": {
  "kernelspec": {
   "display_name": "Python 3 (ipykernel)",
   "language": "python",
   "name": "python3"
  },
  "language_info": {
   "codemirror_mode": {
    "name": "ipython",
    "version": 3
   },
   "file_extension": ".py",
   "mimetype": "text/x-python",
   "name": "python",
   "nbconvert_exporter": "python",
   "pygments_lexer": "ipython3",
   "version": "3.11.13"
  }
 },
 "nbformat": 4,
 "nbformat_minor": 5
}
